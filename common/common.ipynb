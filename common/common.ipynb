{
 "cells": [
  {
   "cell_type": "markdown",
   "id": "3930091a",
   "metadata": {},
   "source": [
    "# Common以下のコード補足"
   ]
  },
  {
   "cell_type": "code",
   "execution_count": 1,
   "id": "87856619",
   "metadata": {},
   "outputs": [],
   "source": [
    "import numpy as np"
   ]
  },
  {
   "cell_type": "markdown",
   "id": "84fb42c0",
   "metadata": {},
   "source": [
    "***\n",
    "# functions"
   ]
  },
  {
   "cell_type": "markdown",
   "id": "e5c75c0f",
   "metadata": {},
   "source": [
    "## softmax関数\n",
    "xが1次元，2次元の場合に分けて，オーバーフロー対策のために各データから最大値を引く"
   ]
  },
  {
   "cell_type": "code",
   "execution_count": 2,
   "id": "e31b1a1f",
   "metadata": {},
   "outputs": [
    {
     "name": "stdout",
     "output_type": "stream",
     "text": [
      "[[0.60075025 0.33271303 0.17343785 0.13577377 0.46292412 0.09548429\n",
      "  0.01352433 0.96772625 0.69869944 0.72463471]\n",
      " [0.34792022 0.16759107 0.10325365 0.98483311 0.77144506 0.33943378\n",
      "  0.30998707 0.14994264 0.5835499  0.43993297]\n",
      " [0.94991387 0.10350156 0.72904534 0.90166407 0.55088631 0.35083577\n",
      "  0.13604599 0.04418678 0.35565199 0.82587936]]\n",
      "[[0.96772625]\n",
      " [0.98483311]\n",
      " [0.94991387]]\n",
      "[[-0.366976   -0.63501322 -0.79428841 -0.83195248 -0.50480213 -0.87224197\n",
      "  -0.95420192  0.         -0.26902681 -0.24309155]\n",
      " [-0.63691289 -0.81724204 -0.88157946  0.         -0.21338804 -0.64539933\n",
      "  -0.67484604 -0.83489047 -0.4012832  -0.54490014]\n",
      " [ 0.         -0.84641231 -0.22086852 -0.04824979 -0.39902755 -0.5990781\n",
      "  -0.81386787 -0.90572708 -0.59426188 -0.1240345 ]]\n"
     ]
    }
   ],
   "source": [
    "x = np.random.rand(3, 10)\n",
    "print(x)\n",
    "print(x.max(axis=1, keepdims=True))\n",
    "print(x - x.max(axis=1, keepdims=True))"
   ]
  },
  {
   "cell_type": "markdown",
   "id": "5944f731",
   "metadata": {},
   "source": [
    "## cross_entropy_error\n",
    "- 1データ分\n",
    "$$\n",
    "L = - \\Sigma_k t_k \\log y_k\n",
    "$$\n",
    "\n",
    "- バッチ\n",
    "$$\n",
    "L = - \\frac{1}{N} \\Sigma_n \\Sigma_k t_{nk} \\log y_{nk}\n",
    "$$\n",
    "\n",
    "- targetラベルがone-hot-vectorであれば，正解ラベルに対応するlog yを計算するだけ．"
   ]
  },
  {
   "cell_type": "markdown",
   "id": "1102272a",
   "metadata": {},
   "source": [
    "***\n",
    "# layers"
   ]
  },
  {
   "cell_type": "markdown",
   "id": "d80b0817",
   "metadata": {},
   "source": [
    "## SigmoidWithLoss\n",
    "$$\n",
    "L = - \\{ t \\log y + (1 - t) \\log(1 - y) \\}\n",
    "$$\n",
    "\n",
    "- CBOWモデルの高速化(多値分類を二値分類に置き換える)で使用．\n",
    "- 答えが不正解のときt = 0, 正解のときt = 1が渡される．"
   ]
  },
  {
   "cell_type": "code",
   "execution_count": 14,
   "id": "68034df9",
   "metadata": {},
   "outputs": [
    {
     "name": "stdout",
     "output_type": "stream",
     "text": [
      "[[0]\n",
      " [1]\n",
      " [2]\n",
      " [3]\n",
      " [4]]\n",
      "[[ 1  0]\n",
      " [ 0  1]\n",
      " [-1  2]\n",
      " [-2  3]\n",
      " [-3  4]]\n"
     ]
    }
   ],
   "source": [
    "y = np.arange(5).reshape(5, 1)\n",
    "# 以下の配列と t = 0 or 1 のラベルをcross_entropy_errorに渡せばよい\n",
    "print(y)\n",
    "print(np.c_[1 - y, y])"
   ]
  },
  {
   "cell_type": "code",
   "execution_count": null,
   "id": "72f3bf4e",
   "metadata": {},
   "outputs": [],
   "source": []
  }
 ],
 "metadata": {
  "kernelspec": {
   "display_name": "Python 3 (ipykernel)",
   "language": "python",
   "name": "python3"
  },
  "language_info": {
   "codemirror_mode": {
    "name": "ipython",
    "version": 3
   },
   "file_extension": ".py",
   "mimetype": "text/x-python",
   "name": "python",
   "nbconvert_exporter": "python",
   "pygments_lexer": "ipython3",
   "version": "3.9.6"
  }
 },
 "nbformat": 4,
 "nbformat_minor": 5
}
