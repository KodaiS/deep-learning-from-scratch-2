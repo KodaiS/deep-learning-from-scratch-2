{
 "cells": [
  {
   "cell_type": "code",
   "execution_count": 1,
   "id": "c8c9ecab",
   "metadata": {},
   "outputs": [],
   "source": [
    "import sys\n",
    "sys.path.append('..')\n",
    "import os\n",
    "from common.np import *"
   ]
  },
  {
   "cell_type": "markdown",
   "id": "50362574",
   "metadata": {},
   "source": [
    "# 2.1 単語の意味の表現方法\n",
    "- シソーラス  \n",
    "類語辞書．人の手で単語同士の関連を定義する．\n",
    "\n",
    "\n",
    "- カウントベース  \n",
    "「単語の意味は周囲の単語によって形成される」という分布仮説に基づく．\n",
    "大量のテキストデータを使い，ある単語の周囲の単語をカウントすることで，単語をベクトルで表現する．\n",
    "\n",
    "\n",
    "- 推論ベース  \n",
    "分布仮説に基づく．\n",
    "ある単語の周囲の単語を特徴量として，単語を推測するモデルを使う．"
   ]
  },
  {
   "cell_type": "markdown",
   "id": "25d83a39",
   "metadata": {},
   "source": [
    "# 2.3 カウントベースの手法"
   ]
  },
  {
   "cell_type": "markdown",
   "id": "2827ce5d",
   "metadata": {},
   "source": [
    "## コーパスの下準備\n",
    "以下の3つを行う preprocess関数を実装\n",
    "- コーパスを単語IDのリストに変換\n",
    "- IDから単語へ変換するためのディクショナリを用意\n",
    "- 単語からIDへ変換するためのディクショナリを用意"
   ]
  },
  {
   "cell_type": "code",
   "execution_count": 2,
   "id": "13f0d281",
   "metadata": {},
   "outputs": [],
   "source": [
    "def preprocess(text):\n",
    "    \n",
    "    text = text.lower()             # 文字を小文字に変える\n",
    "    text = text.replace('.', ' .')  # ピリオドの前にスペースを入れる\n",
    "    words = text.split(' ')         # スペースで分割してリスト化\n",
    "\n",
    "    word_to_id = {}  # 単語からIDに変換するためのディクショナリ\n",
    "    id_to_word = {}  # IDから単語に変換するためのディクショナリ\n",
    "    \n",
    "    # ディクショナリにない単語の場合，新しいIDとして追加する\n",
    "    for word in words:\n",
    "        if word not in word_to_id:\n",
    "            new_id = len(word_to_id)\n",
    "            word_to_id[word] = new_id\n",
    "            id_to_word[new_id] = word\n",
    "\n",
    "    # リスト化した単語をIDに変換する\n",
    "    corpus = np.array([word_to_id[w] for w in words])\n",
    "\n",
    "    return corpus, word_to_id, id_to_word"
   ]
  },
  {
   "cell_type": "code",
   "execution_count": 3,
   "id": "adb22410",
   "metadata": {},
   "outputs": [],
   "source": [
    "text = 'You say goodbye and I say hello.'\n",
    "corpus, word_to_id, id_to_word = preprocess(text)"
   ]
  },
  {
   "cell_type": "code",
   "execution_count": 4,
   "id": "5914ff91",
   "metadata": {},
   "outputs": [
    {
     "name": "stdout",
     "output_type": "stream",
     "text": [
      "text      : You say goodbye and I say hello.\n",
      "corpus    : [0 1 2 3 4 1 5 6]\n",
      "word_to_id: {'you': 0, 'say': 1, 'goodbye': 2, 'and': 3, 'i': 4, 'hello': 5, '.': 6}\n",
      "id_to_word: {0: 'you', 1: 'say', 2: 'goodbye', 3: 'and', 4: 'i', 5: 'hello', 6: '.'}\n"
     ]
    }
   ],
   "source": [
    "print('text      :', text)\n",
    "print('corpus    :', corpus)\n",
    "print('word_to_id:', word_to_id)\n",
    "print('id_to_word:', id_to_word)"
   ]
  },
  {
   "cell_type": "markdown",
   "id": "375c3b17",
   "metadata": {},
   "source": [
    "## 共起行列\n",
    "- 行: 単語を表すベクトル\n",
    "- 列: その単語がwindow内に何度出現したかをカウントした値"
   ]
  },
  {
   "cell_type": "code",
   "execution_count": 5,
   "id": "4be9234b",
   "metadata": {},
   "outputs": [],
   "source": [
    "def create_co_matrix(corpus, vocab_size, window_size=1):\n",
    "    '''共起行列の作成\n",
    "\n",
    "    :param corpus: コーパス（単語IDのリスト）\n",
    "    :param vocab_size:語彙数\n",
    "    :param window_size:ウィンドウサイズ（ウィンドウサイズが1のときは、単語の左右1単語がコンテキスト）\n",
    "    :return: 共起行列\n",
    "    '''\n",
    "    corpus_size = len(corpus)\n",
    "    co_matrix = np.zeros((vocab_size, vocab_size), dtype=np.int32)\n",
    "\n",
    "    # ループを回して，corpusの単語ごとに処理\n",
    "    for idx, word_id in enumerate(corpus):\n",
    "        for i in range(1, window_size + 1):\n",
    "            # コンテキストのインデックスを取得\n",
    "            left_idx = idx - i\n",
    "            right_idx = idx + i\n",
    "\n",
    "            # 左側のコンテキストがcorpus内であればco_matrixに値を追加\n",
    "            if left_idx >= 0:\n",
    "                left_word_id = corpus[left_idx]\n",
    "                co_matrix[word_id, left_word_id] += 1\n",
    "\n",
    "            # 右側のコンテキストがcorpus内であればco_matrixに値を追加\n",
    "            if right_idx < corpus_size:\n",
    "                right_word_id = corpus[right_idx]\n",
    "                co_matrix[word_id, right_word_id] += 1\n",
    "\n",
    "    return co_matrix"
   ]
  },
  {
   "cell_type": "code",
   "execution_count": 6,
   "id": "f0a10653",
   "metadata": {},
   "outputs": [
    {
     "name": "stdout",
     "output_type": "stream",
     "text": [
      "[[0 1 0 0 0 0 0]\n",
      " [1 0 1 0 1 1 0]\n",
      " [0 1 0 1 0 0 0]\n",
      " [0 0 1 0 1 0 0]\n",
      " [0 1 0 1 0 0 0]\n",
      " [0 1 0 0 0 0 1]\n",
      " [0 0 0 0 0 1 0]]\n"
     ]
    }
   ],
   "source": [
    "# 共起行列を作る\n",
    "# vocab_sizeは辞書の要素数\n",
    "vocab_size = len(word_to_id)\n",
    "C = create_co_matrix(corpus, vocab_size)\n",
    "print(C)"
   ]
  },
  {
   "cell_type": "markdown",
   "id": "6f30b671",
   "metadata": {},
   "source": [
    "### コサイン類似度\n",
    "\n",
    "$$\n",
    "\\mathrm{similarity}(\\boldsymbol{x}, \\boldsymbol{y})\n",
    "= \\frac{\\boldsymbol{x} \\cdot \\boldsymbol{y}}{\\| \\boldsymbol{x} \\| \\| \\boldsymbol{y} \\|}\n",
    "= \\frac{x_1 y_1 + \\cdots + x_n y_n}{\\sqrt{x_1^2 + \\cdots + x_n^2} \\sqrt{y_1^2 + \\cdots + y_n^2}}\n",
    "\\\\\n",
    "\\\\\n",
    "\\boldsymbol{x} \\cdot \\boldsymbol{y} = \\| \\boldsymbol{x} \\| \\| \\boldsymbol{y} \\| \\mathrm{cos \\theta}\n",
    "$$\n",
    "\n",
    "- ベクトルの類似度の指標として使う．\n",
    "- 内積をノルムの積で割るので結局は $\\mathrm{cos} \\theta$．$\\theta$ はベクトル $\\boldsymbol{x}, \\boldsymbol{y}$ の成す角．\n",
    "- 直交するとき $\\mathrm{similarity}(\\boldsymbol{x}, \\boldsymbol{y}) = 0$．\n",
    "- 同じ方向を向くとき $\\mathrm{similarity}(\\boldsymbol{x}, \\boldsymbol{y}) = 1$．\n",
    "- 反対方向を向くとき $\\mathrm{similarity}(\\boldsymbol{x}, \\boldsymbol{y}) = -1$"
   ]
  },
  {
   "cell_type": "code",
   "execution_count": 7,
   "id": "269c55da",
   "metadata": {},
   "outputs": [],
   "source": [
    "def cos_similarity(x, y, eps=1e-8):\n",
    "    '''コサイン類似度の算出\n",
    "\n",
    "    :param x: ベクトル\n",
    "    :param y: ベクトル\n",
    "    :param eps: ”0割り”防止のための微小値\n",
    "    :return:\n",
    "    '''\n",
    "    # ノルムを 1 にしてから内積を取る\n",
    "    nx = x / (np.sqrt(np.sum(x ** 2)) + eps)\n",
    "    ny = y / (np.sqrt(np.sum(y ** 2)) + eps)\n",
    "    return np.dot(nx, ny)"
   ]
  },
  {
   "cell_type": "code",
   "execution_count": 8,
   "id": "bb384f9b",
   "metadata": {},
   "outputs": [
    {
     "name": "stdout",
     "output_type": "stream",
     "text": [
      "0.7071067691154799\n"
     ]
    }
   ],
   "source": [
    "# you と i のコサイン類似度を求めてみる\n",
    "c0 = C[word_to_id['you']]\n",
    "c1 = C[word_to_id['i']]\n",
    "print(cos_similarity(c0, c1))"
   ]
  },
  {
   "cell_type": "markdown",
   "id": "b5c53a4e",
   "metadata": {},
   "source": [
    "# 類似単語のランキング表示\n",
    "- クエリとして与えられた単語に対して，コサイン類似度の高い単語を上位から表示する関数を実装"
   ]
  },
  {
   "cell_type": "code",
   "execution_count": 11,
   "id": "86a3794d",
   "metadata": {},
   "outputs": [],
   "source": [
    "def most_similar(query, word_to_id, id_to_word, word_matrix, top=5):\n",
    "    '''類似単語の検索\n",
    "\n",
    "    :param query: クエリ（テキスト）\n",
    "    :param word_to_id: 単語から単語IDへのディクショナリ\n",
    "    :param id_to_word: 単語IDから単語へのディクショナリ\n",
    "    :param word_matrix: 単語ベクトルをまとめた行列。各行に対応する単語のベクトルが格納されていることを想定する\n",
    "    :param top: 上位何位まで表示するか\n",
    "    '''\n",
    "    # 辞書に含まれないクエリの場合は処理を実行しない\n",
    "    if query not in word_to_id:\n",
    "        print('%s is not found' % query)\n",
    "        return\n",
    "\n",
    "    # クエリの単語IDとベクトルを取得\n",
    "    print('\\n[query] ' + query)\n",
    "    query_id = word_to_id[query]\n",
    "    query_vec = word_matrix[query_id]\n",
    "\n",
    "    # 語彙数を取得\n",
    "    vocab_size = len(id_to_word)\n",
    "\n",
    "    # 類似度を保持する配列を生成\n",
    "    # 語彙数と同じ要素数が必要\n",
    "    similarity = np.zeros(vocab_size)\n",
    "    \n",
    "    # 共起行列のベクトルを一つずつ取り出し，クエリの単語とのコサイン類似度を計算\n",
    "    for i in range(vocab_size):\n",
    "        similarity[i] = cos_similarity(word_matrix[i], query_vec)\n",
    "\n",
    "    count = 0\n",
    "    # 類似度の降順で処理（argsort()では要素の昇順にインデックスを返す）\n",
    "    for i in (-1 * similarity).argsort():\n",
    "        # クエリと同じ単語IDのときは処理しない\n",
    "        if id_to_word[i] == query:\n",
    "            continue\n",
    "        print(' %s: %s' % (id_to_word[i], similarity[i]))\n",
    "\n",
    "        count += 1\n",
    "        if count >= top:\n",
    "            return"
   ]
  },
  {
   "cell_type": "code",
   "execution_count": 10,
   "id": "e7e1565e",
   "metadata": {},
   "outputs": [
    {
     "name": "stdout",
     "output_type": "stream",
     "text": [
      "\n",
      "[query] you\n",
      " goodbye: 0.7071067691154799\n",
      " i: 0.7071067691154799\n",
      " hello: 0.7071067691154799\n",
      " say: 0.0\n",
      " and: 0.0\n"
     ]
    }
   ],
   "source": [
    "most_similar('you', word_to_id, id_to_word, C, top=5)"
   ]
  },
  {
   "cell_type": "markdown",
   "id": "914fdf8a",
   "metadata": {},
   "source": [
    "### argsort()の挙動  \n",
    "要素の値の昇順にインデックスを並べる  \n",
    "元の要素に-1をかけると逆順になる"
   ]
  },
  {
   "cell_type": "code",
   "execution_count": 17,
   "id": "e41520d1",
   "metadata": {},
   "outputs": [
    {
     "name": "stdout",
     "output_type": "stream",
     "text": [
      "[1 0 2]\n",
      "[2 0 1]\n"
     ]
    }
   ],
   "source": [
    "x = np.array([10, -5, 20])\n",
    "print(x.argsort())\n",
    "print((-1 * x).argsort())"
   ]
  },
  {
   "cell_type": "code",
   "execution_count": null,
   "id": "4b44c3c8",
   "metadata": {},
   "outputs": [],
   "source": []
  }
 ],
 "metadata": {
  "kernelspec": {
   "display_name": "Python 3 (ipykernel)",
   "language": "python",
   "name": "python3"
  },
  "language_info": {
   "codemirror_mode": {
    "name": "ipython",
    "version": 3
   },
   "file_extension": ".py",
   "mimetype": "text/x-python",
   "name": "python",
   "nbconvert_exporter": "python",
   "pygments_lexer": "ipython3",
   "version": "3.9.6"
  }
 },
 "nbformat": 4,
 "nbformat_minor": 5
}
