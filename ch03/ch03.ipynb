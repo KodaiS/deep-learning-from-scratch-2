{
 "cells": [
  {
   "cell_type": "markdown",
   "id": "bbd9f83f",
   "metadata": {},
   "source": [
    "# 3.1 推論ベースの手法とニューラルネットワーク"
   ]
  },
  {
   "cell_type": "code",
   "execution_count": 5,
   "id": "fb20d078",
   "metadata": {},
   "outputs": [],
   "source": [
    "import sys\n",
    "sys.path.append('..')\n",
    "import numpy as np\n",
    "from common.layers import MatMul"
   ]
  },
  {
   "cell_type": "markdown",
   "id": "138e008b",
   "metadata": {},
   "source": [
    "単語IDが0の単語を全結合層で変換する例"
   ]
  },
  {
   "cell_type": "code",
   "execution_count": 3,
   "id": "b5247ca9",
   "metadata": {},
   "outputs": [
    {
     "name": "stdout",
     "output_type": "stream",
     "text": [
      "(1, 7)\n",
      "[[0.44836394 0.62368717 1.5514608 ]]\n"
     ]
    }
   ],
   "source": [
    "c = np.array([[1, 0, 0, 0, 0, 0, 0]])\n",
    "print(c.shape)  # ミニバッチ処理を考えて2次元にしている\n",
    "W = np.random.randn(7, 3)\n",
    "h = np.dot(c, W)\n",
    "print(h)"
   ]
  },
  {
   "cell_type": "markdown",
   "id": "f79a127a",
   "metadata": {},
   "source": [
    "MatMulレイヤを使う"
   ]
  },
  {
   "cell_type": "code",
   "execution_count": 6,
   "id": "b6a164d0",
   "metadata": {},
   "outputs": [
    {
     "name": "stdout",
     "output_type": "stream",
     "text": [
      "[[0.44836394 0.62368717 1.5514608 ]]\n"
     ]
    }
   ],
   "source": [
    "layer = MatMul(W)\n",
    "h = layer.forward(c)\n",
    "print(h)"
   ]
  },
  {
   "cell_type": "markdown",
   "id": "cf8a3903",
   "metadata": {},
   "source": [
    "# 3.2 シンプルなword2vec (CBOWモデル)"
   ]
  },
  {
   "cell_type": "markdown",
   "id": "495a8b82",
   "metadata": {},
   "source": [
    "## CBOWモデルの推論処理\n",
    "**入力層 - 中間層 - 出力層** という単純なモデルを考える\n",
    "- 入力層と出力層のニューロンの数は単語ベクトルの要素数\n",
    "- 入力層の数はコンテキストとして与える単語数\n",
    "- 全ての入力層から中間層への変換は重み$\\mathrm{W_{in}}$の全結合層によって，中間層から出力層への変換は重み$\\mathrm{W_{out}}$の全結合層によって行われる\n",
    "- 中間層は各入力層の全結合による変換後の値を平均したもの\n",
    "- 出力層の値は各単語のスコア．Softmax関数を適用すると各単語の確率になる．\n",
    "- 学習後の重み$\\mathrm{W_{in}}$が単語の分散表現になる．中間層のニューロンの数を入力層よりも少なくすることで，密なベクトルが得られる．"
   ]
  },
  {
   "cell_type": "code",
   "execution_count": 9,
   "id": "e9441689",
   "metadata": {},
   "outputs": [
    {
     "name": "stdout",
     "output_type": "stream",
     "text": [
      "[[-1.29826124  1.5057834  -1.3688423   1.53703969  0.40879317 -0.43425067\n",
      "   0.56123429]]\n"
     ]
    }
   ],
   "source": [
    "# サンプルデータ\n",
    "c0 = np.array([[1, 0, 0, 0, 0, 0, 0]])\n",
    "c1 = np.array([[0, 0, 1, 0, 0, 0, 0]])\n",
    "\n",
    "# 重み初期化\n",
    "W_in = np.random.randn(7, 3)\n",
    "W_out = np.random.randn(3, 7)\n",
    "\n",
    "# レイヤ生成\n",
    "in_layer0 = MatMul(W_in)\n",
    "in_layer1 = MatMul(W_in)\n",
    "out_layer = MatMul(W_out)\n",
    "\n",
    "# forward\n",
    "h0 = in_layer0.forward(c0)\n",
    "h1 = in_layer1.forward(c1)\n",
    "h = 0.5 * (h0 + h1)\n",
    "s = out_layer.forward(h)\n",
    "\n",
    "# スコア出力\n",
    "print(s)"
   ]
  },
  {
   "cell_type": "markdown",
   "id": "fd379433",
   "metadata": {},
   "source": [
    "## CBOWモデルの学習\n",
    "ネットワークから出力されるスコアにSoftmax関数を適用することで確率を得ることができる．上の例では，単語IDが0と2の単語と共起する単語を予測するようなタスクを考えている．正解が単語IDが1の単語であれば，s[1]が最も高くなるように重みを調整することになる．"
   ]
  },
  {
   "cell_type": "code",
   "execution_count": null,
   "id": "559d9b0a",
   "metadata": {},
   "outputs": [],
   "source": []
  }
 ],
 "metadata": {
  "kernelspec": {
   "display_name": "Python 3 (ipykernel)",
   "language": "python",
   "name": "python3"
  },
  "language_info": {
   "codemirror_mode": {
    "name": "ipython",
    "version": 3
   },
   "file_extension": ".py",
   "mimetype": "text/x-python",
   "name": "python",
   "nbconvert_exporter": "python",
   "pygments_lexer": "ipython3",
   "version": "3.9.6"
  }
 },
 "nbformat": 4,
 "nbformat_minor": 5
}
