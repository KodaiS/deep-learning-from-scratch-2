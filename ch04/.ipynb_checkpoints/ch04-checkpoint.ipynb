{
 "cells": [
  {
   "cell_type": "markdown",
   "id": "8cd44312",
   "metadata": {},
   "source": [
    "# 4章コードの補足"
   ]
  },
  {
   "cell_type": "code",
   "execution_count": 15,
   "id": "9ed67ab3",
   "metadata": {},
   "outputs": [
    {
     "data": {
      "text/plain": [
       "Counter({1: 2, 0: 3, 3: 2, 2: 1})"
      ]
     },
     "execution_count": 15,
     "metadata": {},
     "output_type": "execute_result"
    }
   ],
   "source": [
    "import numpy as np\n",
    "import collections\n",
    "\n",
    "# コーパスは単語IDのリスト．\n",
    "\n",
    "counter = collections.Counter()\n",
    "corpus = np.array([1, 0, 3, 2, 0, 1, 0, 3])\n",
    "\n",
    "for word_id in corpus:\n",
    "    counter[word_id] += 1\n",
    "    \n",
    "counter"
   ]
  },
  {
   "cell_type": "code",
   "execution_count": 16,
   "id": "07dafa98",
   "metadata": {},
   "outputs": [
    {
     "data": {
      "text/plain": [
       "4"
      ]
     },
     "execution_count": 16,
     "metadata": {},
     "output_type": "execute_result"
    }
   ],
   "source": [
    "len(counter)"
   ]
  },
  {
   "cell_type": "code",
   "execution_count": 17,
   "id": "e2b685cd",
   "metadata": {},
   "outputs": [],
   "source": [
    "p = np.zeros(len(counter))\n",
    "for i in range(len(counter)):\n",
    "    p[i] = counter[i]"
   ]
  },
  {
   "cell_type": "code",
   "execution_count": 21,
   "id": "f054171f",
   "metadata": {},
   "outputs": [],
   "source": [
    "p /= np.sum(p)"
   ]
  },
  {
   "cell_type": "code",
   "execution_count": 24,
   "id": "058c9686",
   "metadata": {},
   "outputs": [],
   "source": [
    "samples = np.random.choice(len(counter), size=(10, 5), p=p)"
   ]
  },
  {
   "cell_type": "code",
   "execution_count": null,
   "id": "aa4993f7",
   "metadata": {},
   "outputs": [],
   "source": []
  }
 ],
 "metadata": {
  "kernelspec": {
   "display_name": "Python 3 (ipykernel)",
   "language": "python",
   "name": "python3"
  },
  "language_info": {
   "codemirror_mode": {
    "name": "ipython",
    "version": 3
   },
   "file_extension": ".py",
   "mimetype": "text/x-python",
   "name": "python",
   "nbconvert_exporter": "python",
   "pygments_lexer": "ipython3",
   "version": "3.9.6"
  }
 },
 "nbformat": 4,
 "nbformat_minor": 5
}
