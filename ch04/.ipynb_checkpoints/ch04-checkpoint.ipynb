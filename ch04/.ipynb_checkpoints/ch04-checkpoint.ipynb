{
 "cells": [
  {
   "cell_type": "markdown",
   "id": "8cd44312",
   "metadata": {},
   "source": [
    "# 4章コードの補足"
   ]
  },
  {
   "cell_type": "code",
   "execution_count": 1,
   "id": "9ed67ab3",
   "metadata": {},
   "outputs": [
    {
     "data": {
      "text/plain": [
       "Counter({1: 2, 0: 3, 3: 2, 2: 1})"
      ]
     },
     "execution_count": 1,
     "metadata": {},
     "output_type": "execute_result"
    }
   ],
   "source": [
    "import numpy as np\n",
    "import collections\n",
    "\n",
    "# コーパスは単語IDのリスト．\n",
    "\n",
    "counter = collections.Counter()\n",
    "corpus = np.array([1, 0, 3, 2, 0, 1, 0, 3])\n",
    "\n",
    "for word_id in corpus:\n",
    "    counter[word_id] += 1\n",
    "    \n",
    "counter"
   ]
  },
  {
   "cell_type": "code",
   "execution_count": 2,
   "id": "122772d4",
   "metadata": {},
   "outputs": [
    {
     "data": {
      "text/plain": [
       "array([0.375, 0.25 , 0.125, 0.25 ])"
      ]
     },
     "execution_count": 2,
     "metadata": {},
     "output_type": "execute_result"
    }
   ],
   "source": [
    "p = np.zeros(len(counter))\n",
    "for i in range(len(counter)):\n",
    "    p[i] = counter[i]\n",
    "\n",
    "p /= np.sum(p)\n",
    "p"
   ]
  },
  {
   "cell_type": "code",
   "execution_count": 3,
   "id": "abb33a80",
   "metadata": {},
   "outputs": [],
   "source": [
    "samples = np.random.choice(len(counter), size=(20, 5), p=p)"
   ]
  },
  {
   "cell_type": "code",
   "execution_count": 4,
   "id": "c24579e4",
   "metadata": {},
   "outputs": [],
   "source": [
    "counter = collections.Counter()\n",
    "\n",
    "for word_id in samples.flatten():\n",
    "    counter[word_id] += 1"
   ]
  },
  {
   "cell_type": "code",
   "execution_count": 5,
   "id": "588e0ab0",
   "metadata": {},
   "outputs": [
    {
     "data": {
      "text/plain": [
       "Counter({2: 7, 0: 38, 3: 23, 1: 32})"
      ]
     },
     "execution_count": 5,
     "metadata": {},
     "output_type": "execute_result"
    }
   ],
   "source": [
    "counter"
   ]
  },
  {
   "cell_type": "code",
   "execution_count": 6,
   "id": "e6d8e869",
   "metadata": {},
   "outputs": [
    {
     "data": {
      "text/plain": [
       "array([0.38, 0.32, 0.07, 0.23])"
      ]
     },
     "execution_count": 6,
     "metadata": {},
     "output_type": "execute_result"
    }
   ],
   "source": [
    "p = np.zeros(len(counter))\n",
    "for i in range(len(counter)):\n",
    "    p[i] = counter[i]\n",
    "\n",
    "p /= np.sum(p)\n",
    "p"
   ]
  },
  {
   "cell_type": "code",
   "execution_count": 16,
   "id": "d99693d2",
   "metadata": {},
   "outputs": [
    {
     "name": "stdout",
     "output_type": "stream",
     "text": [
      "[[0.16860902 0.20623086 0.27895794 0.72225706 0.35300136 0.77326383\n",
      "  0.11842388 0.64773344 0.62032115 0.14783888]\n",
      " [0.93365201 0.76590476 0.84562831 0.09192868 0.18766389 0.39580702\n",
      "  0.48907597 0.85969848 0.11461293 0.75411307]\n",
      " [0.61009311 0.14981963 0.90345955 0.20878013 0.23212428 0.82554672\n",
      "  0.63272929 0.14007513 0.31752882 0.48636024]]\n",
      "[[0.77326383]\n",
      " [0.93365201]\n",
      " [0.90345955]]\n",
      "[[-0.60465481 -0.56703297 -0.49430589 -0.05100677 -0.42026247  0.\n",
      "  -0.65483995 -0.12553039 -0.15294268 -0.62542495]\n",
      " [ 0.         -0.16774725 -0.0880237  -0.84172333 -0.74598813 -0.53784499\n",
      "  -0.44457605 -0.07395353 -0.81903908 -0.17953894]\n",
      " [-0.29336643 -0.75363991  0.         -0.69467941 -0.67133527 -0.07791283\n",
      "  -0.27073026 -0.76338441 -0.58593073 -0.41709931]]\n"
     ]
    }
   ],
   "source": []
  },
  {
   "cell_type": "code",
   "execution_count": null,
   "id": "b0140fe9",
   "metadata": {},
   "outputs": [],
   "source": []
  }
 ],
 "metadata": {
  "kernelspec": {
   "display_name": "Python 3 (ipykernel)",
   "language": "python",
   "name": "python3"
  },
  "language_info": {
   "codemirror_mode": {
    "name": "ipython",
    "version": 3
   },
   "file_extension": ".py",
   "mimetype": "text/x-python",
   "name": "python",
   "nbconvert_exporter": "python",
   "pygments_lexer": "ipython3",
   "version": "3.9.6"
  }
 },
 "nbformat": 4,
 "nbformat_minor": 5
}
