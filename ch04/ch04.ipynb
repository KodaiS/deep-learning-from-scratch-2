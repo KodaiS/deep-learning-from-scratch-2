{
 "cells": [
  {
   "cell_type": "markdown",
   "id": "8cd44312",
   "metadata": {},
   "source": [
    "# 4章コードの補足"
   ]
  },
  {
   "cell_type": "code",
   "execution_count": 43,
   "id": "9ed67ab3",
   "metadata": {},
   "outputs": [
    {
     "data": {
      "text/plain": [
       "Counter({1: 2, 0: 3, 3: 2, 2: 1})"
      ]
     },
     "execution_count": 43,
     "metadata": {},
     "output_type": "execute_result"
    }
   ],
   "source": [
    "import numpy as np\n",
    "import collections\n",
    "\n",
    "# コーパスは単語IDのリスト．\n",
    "\n",
    "counter = collections.Counter()\n",
    "corpus = np.array([1, 0, 3, 2, 0, 1, 0, 3])\n",
    "\n",
    "for word_id in corpus:\n",
    "    counter[word_id] += 1\n",
    "    \n",
    "counter"
   ]
  },
  {
   "cell_type": "code",
   "execution_count": 44,
   "id": "122772d4",
   "metadata": {},
   "outputs": [
    {
     "data": {
      "text/plain": [
       "array([0.375, 0.25 , 0.125, 0.25 ])"
      ]
     },
     "execution_count": 44,
     "metadata": {},
     "output_type": "execute_result"
    }
   ],
   "source": [
    "p = np.zeros(len(counter))\n",
    "for i in range(len(counter)):\n",
    "    p[i] = counter[i]\n",
    "\n",
    "p /= np.sum(p)\n",
    "p"
   ]
  },
  {
   "cell_type": "code",
   "execution_count": 45,
   "id": "abb33a80",
   "metadata": {},
   "outputs": [],
   "source": [
    "samples = np.random.choice(len(counter), size=(20, 5), p=p)"
   ]
  },
  {
   "cell_type": "code",
   "execution_count": 46,
   "id": "c24579e4",
   "metadata": {},
   "outputs": [],
   "source": [
    "counter = collections.Counter()\n",
    "\n",
    "for word_id in samples.flatten():\n",
    "    counter[word_id] += 1"
   ]
  },
  {
   "cell_type": "code",
   "execution_count": 47,
   "id": "588e0ab0",
   "metadata": {},
   "outputs": [
    {
     "data": {
      "text/plain": [
       "Counter({3: 25, 1: 24, 0: 38, 2: 13})"
      ]
     },
     "execution_count": 47,
     "metadata": {},
     "output_type": "execute_result"
    }
   ],
   "source": [
    "counter"
   ]
  },
  {
   "cell_type": "code",
   "execution_count": 48,
   "id": "e6d8e869",
   "metadata": {},
   "outputs": [
    {
     "data": {
      "text/plain": [
       "array([0.38, 0.24, 0.13, 0.25])"
      ]
     },
     "execution_count": 48,
     "metadata": {},
     "output_type": "execute_result"
    }
   ],
   "source": [
    "p = np.zeros(len(counter))\n",
    "for i in range(len(counter)):\n",
    "    p[i] = counter[i]\n",
    "\n",
    "p /= np.sum(p)\n",
    "p"
   ]
  },
  {
   "cell_type": "code",
   "execution_count": null,
   "id": "d99693d2",
   "metadata": {},
   "outputs": [],
   "source": []
  }
 ],
 "metadata": {
  "kernelspec": {
   "display_name": "Python 3 (ipykernel)",
   "language": "python",
   "name": "python3"
  },
  "language_info": {
   "codemirror_mode": {
    "name": "ipython",
    "version": 3
   },
   "file_extension": ".py",
   "mimetype": "text/x-python",
   "name": "python",
   "nbconvert_exporter": "python",
   "pygments_lexer": "ipython3",
   "version": "3.9.6"
  }
 },
 "nbformat": 4,
 "nbformat_minor": 5
}
