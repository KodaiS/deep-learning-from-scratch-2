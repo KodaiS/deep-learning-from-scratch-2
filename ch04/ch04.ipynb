{
 "cells": [
  {
   "cell_type": "markdown",
   "id": "8cd44312",
   "metadata": {},
   "source": [
    "# 4章コードの補足"
   ]
  },
  {
   "cell_type": "code",
   "execution_count": 51,
   "id": "9ed67ab3",
   "metadata": {},
   "outputs": [],
   "source": [
    "import sys\n",
    "sys.path.append('..')\n",
    "import numpy as np\n",
    "import collections\n",
    "from common.trainer import Trainer\n",
    "from common.optimizer import Adam\n",
    "from common.layers import Embedding, SigmoidWithLoss\n",
    "from common.util import create_contexts_target\n",
    "from cbow import CBOW\n",
    "from negative_sampling_layer import EmbeddingDot, UnigramSampler, NegativeSamplingLoss\n",
    "from dataset import ptb"
   ]
  },
  {
   "cell_type": "markdown",
   "id": "f6fb7b0a",
   "metadata": {},
   "source": [
    "# negative_sampling_layer.py"
   ]
  },
  {
   "cell_type": "markdown",
   "id": "52df0c53",
   "metadata": {},
   "source": [
    "## EmbeddingDot\n",
    "- CBOWモデルの多値分類を二値分類で近似するときに，中間層->出力層の処理を担うレイヤ．\n",
    "- 正解単語のEmbedding，その単語ベクトルと中間層の値の内積を実行する．"
   ]
  },
  {
   "cell_type": "markdown",
   "id": "121e2479",
   "metadata": {},
   "source": [
    "### 初期化 init\n",
    "- 引数として重みWを受け取る"
   ]
  },
  {
   "cell_type": "code",
   "execution_count": 3,
   "id": "dd8881d0",
   "metadata": {},
   "outputs": [],
   "source": [
    "W_out = np.random.rand(10, 3)  # 出力層側の重み. 語彙数10, word_vec_size=3の想定\n",
    "embed = Embedding(W_out)  # Embeddingレイヤを生成\n",
    "grads = embed.grads  # Embeddingレイヤの勾配を保持\n",
    "cache = None  # backwardで使う値をfoward時に保持する変数"
   ]
  },
  {
   "cell_type": "markdown",
   "id": "e993b6c5",
   "metadata": {},
   "source": [
    "### forward\n",
    "- 引数の h は中間層のニューロン，idx は正解単語IDの配列"
   ]
  },
  {
   "cell_type": "code",
   "execution_count": 4,
   "id": "9cc21443",
   "metadata": {},
   "outputs": [
    {
     "name": "stdout",
     "output_type": "stream",
     "text": [
      "中間層 h: \n",
      " [[0.83411958 0.80611499 0.08915327]\n",
      " [0.10749059 0.09967435 0.74493453]\n",
      " [0.15294117 0.97012438 0.59760582]\n",
      " [0.1137854  0.01545975 0.06701543]\n",
      " [0.18291014 0.34758461 0.28766537]]\n",
      "正解単語ID idx: \n",
      " [0 1 2 0 5]\n"
     ]
    }
   ],
   "source": [
    "h = np.random.rand(5, 3)  # 中間層のニューロン. batch_size=5, word_vec_size=3 の想定．\n",
    "idx = np.array([0, 1, 2, 0, 5])  # 正解の単語ID\n",
    "print(f'中間層 h: \\n {h}')\n",
    "print(f'正解単語ID idx: \\n {idx}')"
   ]
  },
  {
   "cell_type": "code",
   "execution_count": 5,
   "id": "e3bd3c98",
   "metadata": {},
   "outputs": [
    {
     "name": "stdout",
     "output_type": "stream",
     "text": [
      "W_out: \n",
      " [[0.99611508 0.03277631 0.7585744 ]\n",
      " [0.98676654 0.60130009 0.09334825]\n",
      " [0.9419258  0.17370758 0.84883158]\n",
      " [0.51508839 0.79259116 0.11031159]\n",
      " [0.5756207  0.97809488 0.29981932]\n",
      " [0.34321374 0.82751926 0.78379805]\n",
      " [0.17074958 0.17908684 0.59317549]\n",
      " [0.45425244 0.51411358 0.31710341]\n",
      " [0.43557202 0.50100548 0.08788333]\n",
      " [0.81053023 0.71991485 0.88399548]]\n",
      "target_W_out: \n",
      " [[0.99611508 0.03277631 0.7585744 ]\n",
      " [0.98676654 0.60130009 0.09334825]\n",
      " [0.9419258  0.17370758 0.84883158]\n",
      " [0.99611508 0.03277631 0.7585744 ]\n",
      " [0.34321374 0.82751926 0.78379805]]\n"
     ]
    }
   ],
   "source": [
    "target_W_out = embed.forward(idx)  # 正解単語の重みのみを抜き出す\n",
    "print(f'W_out: \\n {W_out}')\n",
    "print(f'target_W_out: \\n {target_W_out}')"
   ]
  },
  {
   "cell_type": "code",
   "execution_count": 6,
   "id": "ba53e8ca",
   "metadata": {},
   "outputs": [
    {
     "name": "stdout",
     "output_type": "stream",
     "text": [
      "out: \n",
      " [0.92492996 0.23554065 0.81984389 0.16468626 0.57588179]\n"
     ]
    }
   ],
   "source": [
    "out = np.sum(target_W_out * h, axis=1)  # 正解単語の重みと中間層の内積計算\n",
    "print(f'out: \\n {out}')"
   ]
  },
  {
   "cell_type": "code",
   "execution_count": 7,
   "id": "eb8597db",
   "metadata": {},
   "outputs": [],
   "source": [
    "cache = (h, target_W_out)  # backward用"
   ]
  },
  {
   "cell_type": "markdown",
   "id": "c91dc8b0",
   "metadata": {},
   "source": [
    "### backward\n",
    "- 勾配 dout を受け取る"
   ]
  },
  {
   "cell_type": "code",
   "execution_count": 8,
   "id": "1bd8a40e",
   "metadata": {},
   "outputs": [
    {
     "name": "stdout",
     "output_type": "stream",
     "text": [
      "dout: \n",
      " [0.65575287 0.60481655 0.28277463 0.68526189 0.59587463]\n"
     ]
    }
   ],
   "source": [
    "dout = np.random.rand(*out.shape)\n",
    "print(f'dout: \\n {dout}')"
   ]
  },
  {
   "cell_type": "code",
   "execution_count": 9,
   "id": "556ff8e1",
   "metadata": {},
   "outputs": [],
   "source": [
    "h, target_W_out = cache"
   ]
  },
  {
   "cell_type": "code",
   "execution_count": 10,
   "id": "bedc588f",
   "metadata": {},
   "outputs": [
    {
     "name": "stdout",
     "output_type": "stream",
     "text": [
      "reshaped dout: \n",
      " [[0.65575287]\n",
      " [0.60481655]\n",
      " [0.28277463]\n",
      " [0.68526189]\n",
      " [0.59587463]]\n"
     ]
    }
   ],
   "source": [
    "dout = dout.reshape(dout.shape[0], 1)  # 二次元に変換\n",
    "print(f'reshaped dout: \\n {dout}')"
   ]
  },
  {
   "cell_type": "code",
   "execution_count": 11,
   "id": "e2ec5fad",
   "metadata": {},
   "outputs": [
    {
     "name": "stdout",
     "output_type": "stream",
     "text": [
      "dtarget_W_out: \n",
      " [[0.54697631 0.52861222 0.05846251]\n",
      " [0.06501209 0.0602847  0.45054873]\n",
      " [0.04324788 0.27432656 0.16898776]\n",
      " [0.0779728  0.01059398 0.04592312]\n",
      " [0.10899152 0.20711685 0.1714125 ]]\n"
     ]
    }
   ],
   "source": [
    "dtarget_W_out = dout * h  # 内積の逆伝播\n",
    "print(f'dtarget_W_out: \\n {dtarget_W_out}')"
   ]
  },
  {
   "cell_type": "code",
   "execution_count": 12,
   "id": "d962e06d",
   "metadata": {},
   "outputs": [
    {
     "name": "stdout",
     "output_type": "stream",
     "text": [
      "grads: \n",
      " [array([[0., 0., 0.],\n",
      "       [0., 0., 0.],\n",
      "       [0., 0., 0.],\n",
      "       [0., 0., 0.],\n",
      "       [0., 0., 0.],\n",
      "       [0., 0., 0.],\n",
      "       [0., 0., 0.],\n",
      "       [0., 0., 0.],\n",
      "       [0., 0., 0.],\n",
      "       [0., 0., 0.]])]\n",
      "\n",
      "updated grads: \n",
      " [array([[0.62494911, 0.53920619, 0.10438564],\n",
      "       [0.06501209, 0.0602847 , 0.45054873],\n",
      "       [0.04324788, 0.27432656, 0.16898776],\n",
      "       [0.        , 0.        , 0.        ],\n",
      "       [0.        , 0.        , 0.        ],\n",
      "       [0.10899152, 0.20711685, 0.1714125 ],\n",
      "       [0.        , 0.        , 0.        ],\n",
      "       [0.        , 0.        , 0.        ],\n",
      "       [0.        , 0.        , 0.        ],\n",
      "       [0.        , 0.        , 0.        ]])]\n"
     ]
    }
   ],
   "source": [
    "print(f'grads: \\n {grads}', end='\\n\\n')\n",
    "embed.backward(dtarget_W_out)  # Embeddingレイヤの逆伝播．勾配を更新．\n",
    "print(f'updated grads: \\n {grads}')"
   ]
  },
  {
   "cell_type": "markdown",
   "id": "4e78110b",
   "metadata": {},
   "source": [
    "***\n",
    "## UnigramSampler\n",
    "- CBOWモデルの高速化の後半部分．\n",
    "- 負例をランダムに抽出して学習させる際の選び方．\n",
    "- コーパス中の単語の出現確率に従ってサンプリングする．"
   ]
  },
  {
   "cell_type": "markdown",
   "id": "417fd7d5",
   "metadata": {},
   "source": [
    "### 初期化 init"
   ]
  },
  {
   "cell_type": "code",
   "execution_count": 13,
   "id": "912e9383",
   "metadata": {},
   "outputs": [
    {
     "name": "stdout",
     "output_type": "stream",
     "text": [
      "Counter({0: 3, 1: 2, 3: 2, 4: 2, 5: 2, 2: 1, 6: 1})\n",
      "3\n"
     ]
    }
   ],
   "source": [
    "corpus = np.array([0, 1, 2, 3, 4, 5, 1, 0, 3, 4, 5, 0, 6])  # コーパスは単語IDのリスト\n",
    "power = 0.75  # 確率に1未満で累乗し，低頻度の単語に下駄をはかせる\n",
    "sample_size = 3  # サンプリングする数\n",
    "\n",
    "# Counterでコーパス中の単語の出現回数をカウントできる\n",
    "counts = collections.Counter()\n",
    "for word_id in corpus:\n",
    "    counts[word_id] += 1\n",
    "print(counts)\n",
    "print(counts[0])"
   ]
  },
  {
   "cell_type": "code",
   "execution_count": 14,
   "id": "122772d4",
   "metadata": {
    "scrolled": true
   },
   "outputs": [
    {
     "name": "stdout",
     "output_type": "stream",
     "text": [
      "original p: [3. 2. 1. 2. 2. 2. 1.]\n",
      "powerd word_p: [2.27950706 1.68179283 1.         1.68179283 1.68179283 1.68179283\n",
      " 1.        ]\n",
      "\n",
      "p_out: [0.23076923 0.15384615 0.07692308 0.15384615 0.15384615 0.15384615\n",
      " 0.07692308]\n",
      "word_p_out: [0.20710218 0.15279749 0.09085393 0.15279749 0.15279749 0.15279749\n",
      " 0.09085393]\n"
     ]
    }
   ],
   "source": [
    "vocab_size = len(counts)  # 語彙数 = countsの長さ\n",
    "\n",
    "p = np.zeros(vocab_size)  # 語彙数と同じ要素数の配列で確率を保持する\n",
    "\n",
    "# 各単語IDの出現回数を格納\n",
    "for i in range(vocab_size):\n",
    "    p[i] = counts[i]\n",
    "\n",
    "# 出現回数を0.75乗して稀な単語の確率に少し下駄をはかせる\n",
    "word_p = np.power(p, power)\n",
    "print(f'original p: {p}')\n",
    "print(f'powerd word_p: {word_p}', end='\\n\\n')\n",
    "\n",
    "# np.sum(p) = 単語数 で割って確率にする\n",
    "p /= np.sum(p)\n",
    "word_p /= np.sum(word_p)\n",
    "print(f'p_out: {p}')\n",
    "print(f'word_p_out: {word_p}')"
   ]
  },
  {
   "cell_type": "markdown",
   "id": "4392674a",
   "metadata": {},
   "source": [
    "### get_negative_sample"
   ]
  },
  {
   "cell_type": "code",
   "execution_count": 15,
   "id": "5784c17e",
   "metadata": {},
   "outputs": [],
   "source": [
    "# コンテキストとターゲットを作る\n",
    "window_size = 1\n",
    "contexts, target = create_contexts_target(corpus, window_size)"
   ]
  },
  {
   "cell_type": "code",
   "execution_count": 16,
   "id": "964407c7",
   "metadata": {},
   "outputs": [],
   "source": [
    "batch_size = target.shape[0]"
   ]
  },
  {
   "cell_type": "code",
   "execution_count": 17,
   "id": "daf07d0f",
   "metadata": {},
   "outputs": [
    {
     "name": "stdout",
     "output_type": "stream",
     "text": [
      "[[0 0 0]\n",
      " [0 0 0]\n",
      " [0 0 0]\n",
      " [0 0 0]\n",
      " [0 0 0]\n",
      " [0 0 0]\n",
      " [0 0 0]\n",
      " [0 0 0]\n",
      " [0 0 0]\n",
      " [0 0 0]\n",
      " [0 0 0]]\n"
     ]
    }
   ],
   "source": [
    "negative_sample = np.zeros((batch_size, sample_size), dtype=np.int32)\n",
    "print(negative_sample)"
   ]
  },
  {
   "cell_type": "code",
   "execution_count": 18,
   "id": "32c3f138",
   "metadata": {},
   "outputs": [],
   "source": [
    "for i in range(batch_size):\n",
    "    p = word_p.copy()  # 確率を取得\n",
    "    target_idx = target[i]  # ターゲットを保持\n",
    "    p[target_idx] = 0  # ターゲットの確率は0\n",
    "    p /= p.sum()  # ターゲットを除いて確率を再計算\n",
    "    negative_sample[i, :] = np.random.choice(vocab_size, size=sample_size, replace=True, p=word_p)"
   ]
  },
  {
   "cell_type": "code",
   "execution_count": 19,
   "id": "c1abc742",
   "metadata": {},
   "outputs": [
    {
     "name": "stdout",
     "output_type": "stream",
     "text": [
      "[[0 0 0]\n",
      " [5 3 0]\n",
      " [0 6 1]\n",
      " [3 6 0]\n",
      " [0 3 0]\n",
      " [1 5 5]\n",
      " [3 1 4]\n",
      " [0 3 3]\n",
      " [3 0 1]\n",
      " [4 5 1]\n",
      " [3 0 4]]\n"
     ]
    }
   ],
   "source": [
    "print(negative_sample)"
   ]
  },
  {
   "cell_type": "markdown",
   "id": "4428a82d",
   "metadata": {},
   "source": [
    "***\n",
    "## NegativeSamplingLoss\n",
    "- EmbeddingDotレイヤ，UnigramSamplerレイヤ，SigmoidWithLossレイヤの組み合わせ\n",
    "- forwardでは中間層のニューロンとターゲットから損失関数を計算する"
   ]
  },
  {
   "cell_type": "markdown",
   "id": "8a6ffbf2",
   "metadata": {},
   "source": [
    "### 初期化 init\n",
    "- EmbeddingDotレイヤに使う重みW，UnigramSamplerで確率計算に使うcorpus，指数powerとsample_sizeを引数として受け取る"
   ]
  },
  {
   "cell_type": "code",
   "execution_count": 20,
   "id": "c4e4eee7",
   "metadata": {},
   "outputs": [
    {
     "name": "stdout",
     "output_type": "stream",
     "text": [
      "=== 初期化で使う引数 ===\n",
      "W_out: \n",
      " [[0.99611508 0.03277631 0.7585744 ]\n",
      " [0.98676654 0.60130009 0.09334825]\n",
      " [0.9419258  0.17370758 0.84883158]\n",
      " [0.51508839 0.79259116 0.11031159]\n",
      " [0.5756207  0.97809488 0.29981932]\n",
      " [0.34321374 0.82751926 0.78379805]\n",
      " [0.17074958 0.17908684 0.59317549]\n",
      " [0.45425244 0.51411358 0.31710341]\n",
      " [0.43557202 0.50100548 0.08788333]\n",
      " [0.81053023 0.71991485 0.88399548]]\n",
      "\n",
      "corpus: [0 1 2 3 4 5 1 0 3 4 5 0 6]\n",
      "\n",
      "power: 0.75\n",
      "\n",
      "sample_size: 3\n",
      "\n",
      "=========================\n",
      "contexts: \n",
      " [[0 2]\n",
      " [1 3]\n",
      " [2 4]\n",
      " [3 5]\n",
      " [4 1]\n",
      " [5 0]\n",
      " [1 3]\n",
      " [0 4]\n",
      " [3 5]\n",
      " [4 0]\n",
      " [5 6]]\n",
      "\n",
      "target: \n",
      " [1 2 3 4 5 1 0 3 4 5 0]\n",
      "\n",
      "h: \n",
      " [[0.78355813 0.5455146  0.36335794]\n",
      " [0.57311126 0.59320848 0.45831957]\n",
      " [0.97060573 0.48938365 0.3253681 ]\n",
      " [0.14599264 0.17278998 0.63636172]\n",
      " [0.0391553  0.84676493 0.80237627]\n",
      " [0.93328339 0.7330196  0.04026047]\n",
      " [0.48768335 0.69470129 0.32374179]\n",
      " [0.04389739 0.68299985 0.71384733]\n",
      " [0.53738338 0.27286231 0.87685294]\n",
      " [0.99973435 0.8017193  0.88656996]\n",
      " [0.70103432 0.117336   0.70193148]]\n"
     ]
    }
   ],
   "source": [
    "print('=== 初期化で使う引数 ===')\n",
    "print(f'W_out: \\n {W_out}', end='\\n\\n')  # 出力側の単語ベクトルとなる重み．語彙数 x word_vec_size\n",
    "print(f'corpus: {corpus}', end='\\n\\n')  # corpusは単語IDの配列\n",
    "power = 0.75\n",
    "print(f'power: {power}', end='\\n\\n')\n",
    "sample_size = 3\n",
    "print(f'sample_size: {sample_size}', end='\\n\\n')\n",
    "\n",
    "print('=========================')\n",
    "print(f'contexts: \\n {contexts}', end='\\n\\n')  # contextsは単語IDの二次元配列\n",
    "print(f'target: \\n {target}', end='\\n\\n')  # targetは単語IDの配列\n",
    "batch_size = target.shape[0]\n",
    "h = np.random.rand(batch_size, 3)   # 中間層のニューロン\n",
    "print(f'h: \\n {h}')"
   ]
  },
  {
   "cell_type": "code",
   "execution_count": 21,
   "id": "2d71326c",
   "metadata": {},
   "outputs": [],
   "source": [
    "sampler = UnigramSampler(corpus, power, sample_size)  # UnigramSampler初期化\n",
    "loss_layers = [SigmoidWithLoss() for _ in range(sample_size + 1)]  # 負例 + 1(正例)だけ必要\n",
    "embed_dot_layers = [EmbeddingDot(W_out) for _ in range(sample_size + 1)]  # 負例 + 1(正例)だけ必要"
   ]
  },
  {
   "cell_type": "code",
   "execution_count": 22,
   "id": "6a4c20c1",
   "metadata": {},
   "outputs": [],
   "source": [
    "# embed_dot_layersのパラメータと勾配をリストにまとめる\n",
    "params, grads = [], []\n",
    "for layer in embed_dot_layers:\n",
    "    params.append(layer.params)\n",
    "    grads.append(layer.grads)"
   ]
  },
  {
   "cell_type": "code",
   "execution_count": 23,
   "id": "d2f00104",
   "metadata": {
    "scrolled": true
   },
   "outputs": [
    {
     "name": "stdout",
     "output_type": "stream",
     "text": [
      "重みと勾配はEmbeddingDotレイヤの数 = 負例 + 1(正例)\n",
      "\n",
      "length of params: 4\n",
      "length of grads : 4\n"
     ]
    }
   ],
   "source": [
    "print('重みと勾配はEmbeddingDotレイヤの数 = 負例 + 1(正例)', end='\\n\\n')\n",
    "print(f'length of params: {len(params)}')\n",
    "print(f'length of grads : {len(grads)}')"
   ]
  },
  {
   "cell_type": "markdown",
   "id": "d9bfd421",
   "metadata": {},
   "source": [
    "### forward"
   ]
  },
  {
   "cell_type": "code",
   "execution_count": 24,
   "id": "6a79d057",
   "metadata": {},
   "outputs": [
    {
     "name": "stdout",
     "output_type": "stream",
     "text": [
      "target: \n",
      " [1 2 3 4 5 1 0 3 4 5 0]\n",
      "batch_size: \n",
      " 11\n"
     ]
    }
   ],
   "source": [
    "batch_size = target.shape[0]\n",
    "print(f'target: \\n {target}')\n",
    "print(f'batch_size: \\n {batch_size}')"
   ]
  },
  {
   "cell_type": "code",
   "execution_count": 25,
   "id": "28fb7ca9",
   "metadata": {},
   "outputs": [
    {
     "name": "stdout",
     "output_type": "stream",
     "text": [
      "negative_sample: \n",
      " [[3 4 5]\n",
      " [1 3 0]\n",
      " [2 1 4]\n",
      " [5 2 0]\n",
      " [0 3 4]\n",
      " [0 3 2]\n",
      " [5 6 4]\n",
      " [2 6 0]\n",
      " [2 5 1]\n",
      " [3 6 0]\n",
      " [2 6 3]]\n"
     ]
    }
   ],
   "source": [
    "# 負例(targetではない単語)をコーパス中の確率に応じてサンプリングする\n",
    "negative_sample = sampler.get_negative_sample(target)\n",
    "print(f'negative_sample: \\n {negative_sample}')"
   ]
  },
  {
   "cell_type": "code",
   "execution_count": 26,
   "id": "92ac72c1",
   "metadata": {},
   "outputs": [],
   "source": [
    "# 正例のフォワード\n",
    "# embed_dot_layersとloss_layersの0番目を正例のレイヤとしている\n",
    "score = embed_dot_layers[0].forward(h, target)  # EmbeddingDotレイヤのforward\n",
    "correct_label = np.ones(batch_size, dtype=np.int32)  # 正例は正解ラベルとして1を渡す\n",
    "loss = loss_layers[0].forward(score, correct_label)  # SigmoidWithLossレイヤ"
   ]
  },
  {
   "cell_type": "code",
   "execution_count": 27,
   "id": "88709172",
   "metadata": {},
   "outputs": [],
   "source": [
    "# 負例のフォワード\n",
    "# embed_dot_layersとloss_layersの1番目以降を負例のレイヤとしている\n",
    "negative_label = np.zeros(batch_size, dtype=np.int32)  # 負例は正解ラベルとして0を渡す\n",
    "for i in range(sample_size):\n",
    "    negative_target = negative_sample[:, i]  # サンプルサイズの回数ループ．バッチ処理．\n",
    "    score = embed_dot_layers[i+1].forward(h, negative_target)  # EmbeddingDotレイヤのforward\n",
    "    loss += loss_layers[i+1].forward(score, negative_label)  # SigmoidWithLossレイヤのforward"
   ]
  },
  {
   "cell_type": "code",
   "execution_count": 28,
   "id": "603b1fe6",
   "metadata": {},
   "outputs": [
    {
     "name": "stdout",
     "output_type": "stream",
     "text": [
      "loss: \n",
      " 4.129987417790073\n"
     ]
    }
   ],
   "source": [
    "print(f'loss: \\n {loss}')"
   ]
  },
  {
   "cell_type": "markdown",
   "id": "75116810",
   "metadata": {},
   "source": [
    "### backward"
   ]
  },
  {
   "cell_type": "code",
   "execution_count": 29,
   "id": "d8b412a4",
   "metadata": {},
   "outputs": [],
   "source": [
    "dout = 1"
   ]
  },
  {
   "cell_type": "code",
   "execution_count": 30,
   "id": "d6646410",
   "metadata": {},
   "outputs": [
    {
     "name": "stdout",
     "output_type": "stream",
     "text": [
      "dh: \n",
      " [[ 0.07328004  0.15925165  0.07759551]\n",
      " [ 0.14001219  0.08753607  0.04238783]\n",
      " [ 0.16345309  0.10194805  0.08473833]\n",
      " [ 0.11686795  0.02790531  0.13357955]\n",
      " [ 0.12483508  0.10237117  0.05823222]\n",
      " [ 0.14578711  0.05632051  0.11295732]\n",
      " [ 0.04194403  0.12972226  0.08248242]\n",
      " [ 0.11079692 -0.00178703  0.12810253]\n",
      " [ 0.13630181  0.07941869  0.11162662]\n",
      " [ 0.1189172   0.05826809  0.09272676]\n",
      " [ 0.08590326  0.06740834  0.08539176]]\n",
      "h : \n",
      " [[0.78355813 0.5455146  0.36335794]\n",
      " [0.57311126 0.59320848 0.45831957]\n",
      " [0.97060573 0.48938365 0.3253681 ]\n",
      " [0.14599264 0.17278998 0.63636172]\n",
      " [0.0391553  0.84676493 0.80237627]\n",
      " [0.93328339 0.7330196  0.04026047]\n",
      " [0.48768335 0.69470129 0.32374179]\n",
      " [0.04389739 0.68299985 0.71384733]\n",
      " [0.53738338 0.27286231 0.87685294]\n",
      " [0.99973435 0.8017193  0.88656996]\n",
      " [0.70103432 0.117336   0.70193148]]\n"
     ]
    }
   ],
   "source": [
    "# dhを初期化\n",
    "dh = 0\n",
    "\n",
    "# SigmoidWithLossレイヤ->EmbeddingDotレイヤの順にbackward\n",
    "for l0, l1 in zip(loss_layers, embed_dot_layers):\n",
    "    dscore = l0.backward(dout)\n",
    "    dh += l1.backward(dscore)  # hの順伝播はリピートノードなので，逆伝播では足し合わせる\n",
    "    \n",
    "print(f'dh: \\n {dh}')\n",
    "print(f'h : \\n {h}')"
   ]
  },
  {
   "cell_type": "markdown",
   "id": "4b0868a6",
   "metadata": {},
   "source": [
    "***\n",
    "# cbow.py\n",
    "### CBOW\n",
    "- 改良版CBOWモデル．\n",
    "- EmbeddingレイヤとNegativeSamplingLossレイヤを使う．"
   ]
  },
  {
   "cell_type": "markdown",
   "id": "c113b8d2",
   "metadata": {},
   "source": [
    "### 初期化 init"
   ]
  },
  {
   "cell_type": "code",
   "execution_count": 31,
   "id": "347adda5",
   "metadata": {},
   "outputs": [
    {
     "name": "stdout",
     "output_type": "stream",
     "text": [
      "===引数===\n",
      "vocab_size: 7\n",
      "hidden_size: 3\n",
      "corpus: [0 1 2 3 4 5 1 0 3 4 5 0 6]\n",
      "window_size: 2\n"
     ]
    }
   ],
   "source": [
    "hidden_size = 3  # embeddingした単語ベクトルの次元\n",
    "window_size = 2  # targetの両側いくつか？\n",
    "\n",
    "print('===引数===')\n",
    "print(f'vocab_size: {vocab_size}')\n",
    "print(f'hidden_size: {hidden_size}')\n",
    "print(f'corpus: {corpus}')\n",
    "print(f'window_size: {window_size}')"
   ]
  },
  {
   "cell_type": "code",
   "execution_count": 32,
   "id": "bb77a0d0",
   "metadata": {},
   "outputs": [],
   "source": [
    "# 重みの初期化\n",
    "V, H = vocab_size, hidden_size\n",
    "W_in = 0.01 * np.random.randn(V, H).astype('f')\n",
    "W_out = 0.01 * np.random.randn(V, H).astype('f')"
   ]
  },
  {
   "cell_type": "code",
   "execution_count": 33,
   "id": "3e424770",
   "metadata": {},
   "outputs": [],
   "source": [
    "# レイヤの生成\n",
    "in_layers = []\n",
    "for i in range(window_size*2):\n",
    "    layer = Embedding(W_in)\n",
    "    in_layers.append(layer)\n",
    "ns_loss = NegativeSamplingLoss(W_out, corpus, power=0.75, sample_size=2)"
   ]
  },
  {
   "cell_type": "code",
   "execution_count": 34,
   "id": "1635e758",
   "metadata": {},
   "outputs": [],
   "source": [
    "# 重みと勾配をリストで管理する\n",
    "layers = in_layers + [ns_loss]\n",
    "params, grads = [], []\n",
    "for layer in layers:\n",
    "    params.append(layer.params)\n",
    "    grads.append(layer.grads)"
   ]
  },
  {
   "cell_type": "code",
   "execution_count": 35,
   "id": "483146b6",
   "metadata": {},
   "outputs": [],
   "source": [
    "# インスタンス変数に単語の分散表現を設定\n",
    "word_vecs = W_in"
   ]
  },
  {
   "cell_type": "markdown",
   "id": "0d42d5bc",
   "metadata": {},
   "source": [
    "### forward"
   ]
  },
  {
   "cell_type": "code",
   "execution_count": 36,
   "id": "3453452a",
   "metadata": {},
   "outputs": [
    {
     "name": "stdout",
     "output_type": "stream",
     "text": [
      "contexts\n",
      "[[0 1 3 4]\n",
      " [1 2 4 5]\n",
      " [2 3 5 1]\n",
      " [3 4 1 0]\n",
      " [4 5 0 3]\n",
      " [5 1 3 4]\n",
      " [1 0 4 5]\n",
      " [0 3 5 0]\n",
      " [3 4 0 6]]\n",
      "targets\n",
      "[2 3 4 5 1 0 3 4 5]\n"
     ]
    }
   ],
   "source": [
    "contexts, targets = create_contexts_target(corpus, window_size)\n",
    "print('contexts')\n",
    "print(contexts)\n",
    "print('targets')\n",
    "print(targets)"
   ]
  },
  {
   "cell_type": "code",
   "execution_count": 37,
   "id": "60eb6613",
   "metadata": {},
   "outputs": [
    {
     "name": "stdout",
     "output_type": "stream",
     "text": [
      "2.0794656011793347\n"
     ]
    }
   ],
   "source": [
    "h = 0\n",
    "for i, layer in enumerate(in_layers):\n",
    "    h += layer.forward(contexts[:, i])  # Embeddingレイヤの順伝播\n",
    "h *= 1 / len(in_layers)  # コンテキスト全体の平均を中間層のニューロンとする\n",
    "loss = ns_loss.forward(h, targets)\n",
    "print(loss)"
   ]
  },
  {
   "cell_type": "markdown",
   "id": "eca8dc6d",
   "metadata": {},
   "source": [
    "### backward"
   ]
  },
  {
   "cell_type": "code",
   "execution_count": 38,
   "id": "d57cd8a5",
   "metadata": {},
   "outputs": [
    {
     "name": "stdout",
     "output_type": "stream",
     "text": [
      "========= before backward =========\n",
      "grad of ns_loss\n",
      "[array([[0., 0., 0.],\n",
      "       [0., 0., 0.],\n",
      "       [0., 0., 0.],\n",
      "       [0., 0., 0.],\n",
      "       [0., 0., 0.],\n",
      "       [0., 0., 0.],\n",
      "       [0., 0., 0.]], dtype=float32), array([[0., 0., 0.],\n",
      "       [0., 0., 0.],\n",
      "       [0., 0., 0.],\n",
      "       [0., 0., 0.],\n",
      "       [0., 0., 0.],\n",
      "       [0., 0., 0.],\n",
      "       [0., 0., 0.]], dtype=float32), array([[0., 0., 0.],\n",
      "       [0., 0., 0.],\n",
      "       [0., 0., 0.],\n",
      "       [0., 0., 0.],\n",
      "       [0., 0., 0.],\n",
      "       [0., 0., 0.],\n",
      "       [0., 0., 0.]], dtype=float32)]\n",
      "grad of in_layer_0\n",
      "[array([[0., 0., 0.],\n",
      "       [0., 0., 0.],\n",
      "       [0., 0., 0.],\n",
      "       [0., 0., 0.],\n",
      "       [0., 0., 0.],\n",
      "       [0., 0., 0.],\n",
      "       [0., 0., 0.]], dtype=float32)]\n",
      "========= after backward =========\n",
      "grad of ns_loss\n",
      "[array([[ 3.9458770e-04, -2.0558155e-05, -1.4033174e-04],\n",
      "       [ 3.7436336e-04, -3.0306150e-05,  1.3142229e-04],\n",
      "       [ 1.8102820e-04, -5.7447000e-05, -1.7221703e-04],\n",
      "       [ 3.0923515e-04,  1.4187662e-04, -4.2570848e-04],\n",
      "       [ 2.4472128e-04,  5.3241127e-04,  7.4741989e-04],\n",
      "       [ 4.2744257e-04, -2.2577733e-04, -1.1774229e-04],\n",
      "       [ 0.0000000e+00,  0.0000000e+00,  0.0000000e+00]], dtype=float32), array([[-3.2032901e-04,  1.5112117e-04,  2.3459554e-04],\n",
      "       [-4.2614137e-04, -1.8701707e-04, -2.9301114e-04],\n",
      "       [-1.8103808e-04,  5.7450143e-05,  1.7222646e-04],\n",
      "       [-3.7436516e-04,  3.0306295e-05, -1.3142292e-04],\n",
      "       [-1.8103499e-04,  5.7449157e-05,  1.7222350e-04],\n",
      "       [-4.4843880e-04, -4.4943677e-04, -1.7736093e-04],\n",
      "       [ 0.0000000e+00,  0.0000000e+00,  0.0000000e+00]], dtype=float32), array([[-2.44701689e-04, -5.32373961e-04, -7.47372920e-04],\n",
      "       [-2.35319138e-04, -1.24674465e-04,  1.36638089e-04],\n",
      "       [ 0.00000000e+00,  0.00000000e+00,  0.00000000e+00],\n",
      "       [ 0.00000000e+00,  0.00000000e+00,  0.00000000e+00],\n",
      "       [-3.20332096e-04,  1.51118307e-04,  2.34617284e-04],\n",
      "       [-7.68949685e-04,  5.08645935e-05,  8.90005867e-06],\n",
      "       [-3.62061255e-04,  1.14895556e-04,  3.44438711e-04]], dtype=float32)]\n",
      "grad of in_layer_0\n",
      "[array([[ 1.10215136e-04, -1.80130897e-04, -4.64503304e-04],\n",
      "       [-6.08464252e-05,  3.72712937e-04, -3.35355900e-04],\n",
      "       [-1.31517358e-04, -2.35143467e-04, -3.51344235e-04],\n",
      "       [ 1.68881103e-04,  2.47600517e-04, -1.41529585e-04],\n",
      "       [ 3.38553044e-04,  4.02524092e-05,  4.41238459e-04],\n",
      "       [-1.83571596e-04,  1.18566844e-04,  1.43766578e-04],\n",
      "       [ 0.00000000e+00,  0.00000000e+00,  0.00000000e+00]], dtype=float32)]\n"
     ]
    }
   ],
   "source": [
    "print('========= before backward =========')\n",
    "print('grad of ns_loss')\n",
    "print(grads[-1])\n",
    "\n",
    "print('grad of in_layer_0')\n",
    "print(grads[0])\n",
    "\n",
    "dout = 1\n",
    "dout = ns_loss.backward(dout)\n",
    "dout *= 1 / len(in_layers)  # コンテキスト一つ分の損失にする\n",
    "for layer in in_layers:\n",
    "    layer.backward(dout)\n",
    "    \n",
    "print('========= after backward =========')\n",
    "print('grad of ns_loss')\n",
    "print(grads[-1])\n",
    "\n",
    "print('grad of in_layer_0')\n",
    "print(grads[0])"
   ]
  },
  {
   "cell_type": "markdown",
   "id": "3607ec95",
   "metadata": {},
   "source": [
    "***\n",
    "# train.py\n",
    "- 改良版CBOWモデルの学習コード"
   ]
  },
  {
   "cell_type": "code",
   "execution_count": 64,
   "id": "fef64e5d",
   "metadata": {},
   "outputs": [],
   "source": [
    "# ハイパーパラメータ設定\n",
    "window_size = 1\n",
    "hidden_size = 10\n",
    "batch_size = 10\n",
    "max_epoch = 5"
   ]
  },
  {
   "cell_type": "code",
   "execution_count": 65,
   "id": "6a6defe0",
   "metadata": {},
   "outputs": [],
   "source": [
    "# データ読み込み\n",
    "corpus, word_to_id, id_to_word = ptb.load_data('train')\n",
    "vocab_size = len(word_to_id)\n",
    "contexts, target = create_contexts_target(corpus, window_size)"
   ]
  },
  {
   "cell_type": "code",
   "execution_count": 66,
   "id": "76f819c3",
   "metadata": {},
   "outputs": [],
   "source": [
    "# モデル生成\n",
    "model = CBOW(vocab_size, hidden_size, window_size, corpus)\n",
    "optimizer = Adam()\n",
    "trainer = Trainer(model, optimizer)"
   ]
  },
  {
   "cell_type": "code",
   "execution_count": 74,
   "id": "469a762f",
   "metadata": {},
   "outputs": [
    {
     "name": "stdout",
     "output_type": "stream",
     "text": [
      "<class 'cbow.CBOW'>\n",
      "num of in_layers: 2\n",
      "num of params of a in_layer: 1\n",
      "num of params of ns_loss: 6\n",
      "num of params: 8\n"
     ]
    }
   ],
   "source": [
    "print(type(model))\n",
    "print(f'num of in_layers: {len(model.in_layers)}')  # window_size=2なのでin_layerは2つ\n",
    "print(f'num of params of a in_layer: {len(model.in_layers[0].params)}')  # Embeddingレイヤは重み1つ\n",
    "# NegativeSamplingLossレイヤのEmbeddingDotレイヤに重みが1つ\n",
    "# sample_sizeのdefault値5+1(正例分)\n",
    "print(f'num of params of ns_loss: {len(model.ns_loss.params)}')\n",
    "print(f'num of params: {len(model.params)}')  # 計8つのパラメータ"
   ]
  },
  {
   "cell_type": "code",
   "execution_count": null,
   "id": "7b2ffc89",
   "metadata": {},
   "outputs": [],
   "source": []
  }
 ],
 "metadata": {
  "kernelspec": {
   "display_name": "Python 3 (ipykernel)",
   "language": "python",
   "name": "python3"
  },
  "language_info": {
   "codemirror_mode": {
    "name": "ipython",
    "version": 3
   },
   "file_extension": ".py",
   "mimetype": "text/x-python",
   "name": "python",
   "nbconvert_exporter": "python",
   "pygments_lexer": "ipython3",
   "version": "3.9.6"
  }
 },
 "nbformat": 4,
 "nbformat_minor": 5
}
