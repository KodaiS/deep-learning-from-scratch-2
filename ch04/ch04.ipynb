{
 "cells": [
  {
   "cell_type": "markdown",
   "id": "8cd44312",
   "metadata": {},
   "source": [
    "# 4章コードの補足"
   ]
  },
  {
   "cell_type": "code",
   "execution_count": 22,
   "id": "9ed67ab3",
   "metadata": {},
   "outputs": [],
   "source": [
    "import sys\n",
    "sys.path.append('..')\n",
    "import numpy as np\n",
    "import collections\n",
    "from common.layers import Embedding, SigmoidWithLoss\n",
    "from common.util import create_contexts_target\n",
    "from negative_sampling_layer import EmbeddingDot, UnigramSampler, NegativeSamplingLoss"
   ]
  },
  {
   "cell_type": "markdown",
   "id": "f6fb7b0a",
   "metadata": {},
   "source": [
    "# negative_sampling_layer"
   ]
  },
  {
   "cell_type": "markdown",
   "id": "52df0c53",
   "metadata": {},
   "source": [
    "***\n",
    "## EmbeddingDot\n",
    "- CBOWモデルの多値分類を二値分類で近似するときに，中間層->出力層の処理を担うレイヤ．\n",
    "- 正解単語のEmbedding，その単語ベクトルと中間層の値の内積を実行する．"
   ]
  },
  {
   "cell_type": "markdown",
   "id": "121e2479",
   "metadata": {},
   "source": [
    "### 初期化 init\n",
    "- 引数として重みWを受け取る"
   ]
  },
  {
   "cell_type": "code",
   "execution_count": 2,
   "id": "dd8881d0",
   "metadata": {},
   "outputs": [],
   "source": [
    "W_out = np.random.rand(10, 3)  # 出力層側の重み. 語彙数10, word_vec_size=3の想定\n",
    "embed = Embedding(W_out)  # Embeddingレイヤを生成\n",
    "grads = embed.grads  # Embeddingレイヤの勾配を保持\n",
    "cache = None  # backwardで使う値をfoward時に保持する変数"
   ]
  },
  {
   "cell_type": "markdown",
   "id": "e993b6c5",
   "metadata": {},
   "source": [
    "### forward\n",
    "- 引数の h は中間層のニューロン，idx は正解単語IDの配列"
   ]
  },
  {
   "cell_type": "code",
   "execution_count": 3,
   "id": "9cc21443",
   "metadata": {},
   "outputs": [
    {
     "name": "stdout",
     "output_type": "stream",
     "text": [
      "中間層 h: \n",
      " [[0.58604158 0.9520668  0.2263102 ]\n",
      " [0.61805397 0.38801019 0.73331188]\n",
      " [0.68606143 0.72504169 0.40785919]\n",
      " [0.34843246 0.83562609 0.16880705]\n",
      " [0.58770282 0.23997507 0.64947012]]\n",
      "正解単語ID idx: \n",
      " [0 1 2 0 5]\n"
     ]
    }
   ],
   "source": [
    "h = np.random.rand(5, 3)  # 中間層のニューロン. batch_size=5, word_vec_size=3 の想定．\n",
    "idx = np.array([0, 1, 2, 0, 5])  # 正解の単語ID\n",
    "print(f'中間層 h: \\n {h}')\n",
    "print(f'正解単語ID idx: \\n {idx}')"
   ]
  },
  {
   "cell_type": "code",
   "execution_count": 4,
   "id": "e3bd3c98",
   "metadata": {},
   "outputs": [
    {
     "name": "stdout",
     "output_type": "stream",
     "text": [
      "W_out: \n",
      " [[0.43108747 0.21280531 0.29782549]\n",
      " [0.80190639 0.67634727 0.38809073]\n",
      " [0.92393452 0.72890279 0.52477641]\n",
      " [0.8280952  0.61218108 0.89187467]\n",
      " [0.72089756 0.5200182  0.29476372]\n",
      " [0.51307117 0.84545686 0.83864454]\n",
      " [0.84172767 0.01887939 0.86639175]\n",
      " [0.57131253 0.53254022 0.65238355]\n",
      " [0.22800543 0.30880185 0.74129552]\n",
      " [0.46369241 0.50884812 0.18668578]]\n",
      "target_W_out: \n",
      " [[0.43108747 0.21280531 0.29782549]\n",
      " [0.80190639 0.67634727 0.38809073]\n",
      " [0.92393452 0.72890279 0.52477641]\n",
      " [0.43108747 0.21280531 0.29782549]\n",
      " [0.51307117 0.84545686 0.83864454]]\n"
     ]
    }
   ],
   "source": [
    "target_W_out = embed.forward(idx)  # 正解単語の重みのみを抜き出す\n",
    "print(f'W_out: \\n {W_out}')\n",
    "print(f'target_W_out: \\n {target_W_out}')"
   ]
  },
  {
   "cell_type": "code",
   "execution_count": 5,
   "id": "ba53e8ca",
   "metadata": {},
   "outputs": [
    {
     "name": "stdout",
     "output_type": "stream",
     "text": [
      "out: \n",
      " [0.522641   1.0426426  1.37639564 0.37830558 1.0490965 ]\n"
     ]
    }
   ],
   "source": [
    "out = np.sum(target_W_out * h, axis=1)  # 正解単語の重みと中間層の内積計算\n",
    "print(f'out: \\n {out}')"
   ]
  },
  {
   "cell_type": "code",
   "execution_count": 6,
   "id": "eb8597db",
   "metadata": {},
   "outputs": [],
   "source": [
    "cache = (h, target_W_out)  # backward用"
   ]
  },
  {
   "cell_type": "markdown",
   "id": "c91dc8b0",
   "metadata": {},
   "source": [
    "### backward\n",
    "- 勾配 dout を受け取る"
   ]
  },
  {
   "cell_type": "code",
   "execution_count": 7,
   "id": "1bd8a40e",
   "metadata": {},
   "outputs": [
    {
     "name": "stdout",
     "output_type": "stream",
     "text": [
      "dout: \n",
      " [0.31748045 0.29540609 0.99564754 0.7983897  0.30694812]\n"
     ]
    }
   ],
   "source": [
    "dout = np.random.rand(*out.shape)\n",
    "print(f'dout: \\n {dout}')"
   ]
  },
  {
   "cell_type": "code",
   "execution_count": 8,
   "id": "556ff8e1",
   "metadata": {},
   "outputs": [],
   "source": [
    "h, target_W_out = cache"
   ]
  },
  {
   "cell_type": "code",
   "execution_count": 9,
   "id": "bedc588f",
   "metadata": {},
   "outputs": [
    {
     "name": "stdout",
     "output_type": "stream",
     "text": [
      "reshaped dout: \n",
      " [[0.31748045]\n",
      " [0.29540609]\n",
      " [0.99564754]\n",
      " [0.7983897 ]\n",
      " [0.30694812]]\n"
     ]
    }
   ],
   "source": [
    "dout = dout.reshape(dout.shape[0], 1)  # 二次元に変換\n",
    "print(f'reshaped dout: \\n {dout}')"
   ]
  },
  {
   "cell_type": "code",
   "execution_count": 10,
   "id": "e2ec5fad",
   "metadata": {},
   "outputs": [
    {
     "name": "stdout",
     "output_type": "stream",
     "text": [
      "dtarget_W_out: \n",
      " [[0.18605674 0.30226259 0.07184906]\n",
      " [0.18257691 0.11462057 0.2166248 ]\n",
      " [0.68307538 0.72188598 0.406084  ]\n",
      " [0.27818489 0.66715526 0.13477381]\n",
      " [0.18039428 0.0736599  0.19935363]]\n"
     ]
    }
   ],
   "source": [
    "dtarget_W_out = dout * h  # 内積の逆伝播\n",
    "print(f'dtarget_W_out: \\n {dtarget_W_out}')"
   ]
  },
  {
   "cell_type": "code",
   "execution_count": 11,
   "id": "d962e06d",
   "metadata": {},
   "outputs": [
    {
     "name": "stdout",
     "output_type": "stream",
     "text": [
      "grads: \n",
      " [array([[0., 0., 0.],\n",
      "       [0., 0., 0.],\n",
      "       [0., 0., 0.],\n",
      "       [0., 0., 0.],\n",
      "       [0., 0., 0.],\n",
      "       [0., 0., 0.],\n",
      "       [0., 0., 0.],\n",
      "       [0., 0., 0.],\n",
      "       [0., 0., 0.],\n",
      "       [0., 0., 0.]])]\n",
      "\n",
      "updated grads: \n",
      " [array([[0.46424163, 0.96941786, 0.20662288],\n",
      "       [0.18257691, 0.11462057, 0.2166248 ],\n",
      "       [0.68307538, 0.72188598, 0.406084  ],\n",
      "       [0.        , 0.        , 0.        ],\n",
      "       [0.        , 0.        , 0.        ],\n",
      "       [0.18039428, 0.0736599 , 0.19935363],\n",
      "       [0.        , 0.        , 0.        ],\n",
      "       [0.        , 0.        , 0.        ],\n",
      "       [0.        , 0.        , 0.        ],\n",
      "       [0.        , 0.        , 0.        ]])]\n"
     ]
    }
   ],
   "source": [
    "print(f'grads: \\n {grads}', end='\\n\\n')\n",
    "embed.backward(dtarget_W_out)  # Embeddingレイヤの逆伝播．勾配を更新．\n",
    "print(f'updated grads: \\n {grads}')"
   ]
  },
  {
   "cell_type": "markdown",
   "id": "4e78110b",
   "metadata": {},
   "source": [
    "***\n",
    "## UnigramSampler\n",
    "- CBOWモデルの高速化の後半部分．\n",
    "- 負例をランダムに抽出して学習させる際の選び方．\n",
    "- コーパス中の単語の出現確率に従ってサンプリングする．"
   ]
  },
  {
   "cell_type": "markdown",
   "id": "417fd7d5",
   "metadata": {},
   "source": [
    "### 初期化 init"
   ]
  },
  {
   "cell_type": "code",
   "execution_count": 12,
   "id": "912e9383",
   "metadata": {},
   "outputs": [
    {
     "name": "stdout",
     "output_type": "stream",
     "text": [
      "Counter({1: 4, 0: 3, 3: 2, 2: 1, 4: 1, 5: 1})\n",
      "3\n"
     ]
    }
   ],
   "source": [
    "corpus = np.array([1, 1, 3, 2, 1, 1, 0, 3, 4, 5, 0, 0])  # コーパスは単語IDのリスト\n",
    "power = 0.75  # 確率に1未満で累乗し，低頻度の単語に下駄をはかせる\n",
    "sample_size = 3  # サンプリングする数\n",
    "\n",
    "# Counterでコーパス中の単語の出現回数をカウントできる\n",
    "counts = collections.Counter()\n",
    "for word_id in corpus:\n",
    "    counts[word_id] += 1\n",
    "print(counts)\n",
    "print(counts[0])"
   ]
  },
  {
   "cell_type": "code",
   "execution_count": 13,
   "id": "122772d4",
   "metadata": {
    "scrolled": true
   },
   "outputs": [
    {
     "name": "stdout",
     "output_type": "stream",
     "text": [
      "original p: [3. 4. 1. 2. 1. 1.]\n",
      "powerd word_p: [2.27950706 2.82842712 1.         1.68179283 1.         1.        ]\n",
      "\n",
      "p_out: [0.25       0.33333333 0.08333333 0.16666667 0.08333333 0.08333333]\n",
      "word_p_out: [0.23284685 0.28891787 0.10214789 0.1717916  0.10214789 0.10214789]\n"
     ]
    }
   ],
   "source": [
    "vocab_size = len(counts)  # 語彙数 = countsの長さ\n",
    "\n",
    "p = np.zeros(vocab_size)  # 語彙数と同じ要素数の配列で確率を保持する\n",
    "\n",
    "# 各単語IDの出現回数を格納\n",
    "for i in range(vocab_size):\n",
    "    p[i] = counts[i]\n",
    "\n",
    "# 出現回数を0.75乗して稀な単語の確率に少し下駄をはかせる\n",
    "word_p = np.power(p, power)\n",
    "print(f'original p: {p}')\n",
    "print(f'powerd word_p: {word_p}', end='\\n\\n')\n",
    "\n",
    "# np.sum(p) = 単語数 で割って確率にする\n",
    "p /= np.sum(p)\n",
    "word_p /= np.sum(word_p)\n",
    "print(f'p_out: {p}')\n",
    "print(f'word_p_out: {word_p}')"
   ]
  },
  {
   "cell_type": "markdown",
   "id": "4392674a",
   "metadata": {},
   "source": [
    "### get_negative_sample"
   ]
  },
  {
   "cell_type": "code",
   "execution_count": 14,
   "id": "5784c17e",
   "metadata": {},
   "outputs": [],
   "source": [
    "# コンテキストとターゲットを作る\n",
    "window_size = 1\n",
    "contexts, target = create_contexts_target(corpus, window_size)"
   ]
  },
  {
   "cell_type": "code",
   "execution_count": 15,
   "id": "964407c7",
   "metadata": {},
   "outputs": [],
   "source": [
    "batch_size = target.shape[0]"
   ]
  },
  {
   "cell_type": "code",
   "execution_count": 16,
   "id": "daf07d0f",
   "metadata": {},
   "outputs": [
    {
     "name": "stdout",
     "output_type": "stream",
     "text": [
      "[[0 0 0]\n",
      " [0 0 0]\n",
      " [0 0 0]\n",
      " [0 0 0]\n",
      " [0 0 0]\n",
      " [0 0 0]\n",
      " [0 0 0]\n",
      " [0 0 0]\n",
      " [0 0 0]\n",
      " [0 0 0]]\n"
     ]
    }
   ],
   "source": [
    "negative_sample = np.zeros((batch_size, sample_size), dtype=np.int32)\n",
    "print(negative_sample)"
   ]
  },
  {
   "cell_type": "code",
   "execution_count": 17,
   "id": "32c3f138",
   "metadata": {},
   "outputs": [],
   "source": [
    "for i in range(batch_size):\n",
    "    p = word_p.copy()  # 確率を取得\n",
    "    target_idx = target[i]  # ターゲットを保持\n",
    "    p[target_idx] = 0  # ターゲットの確率は0\n",
    "    p /= p.sum()  # ターゲットを除いて確率を再計算\n",
    "    negative_sample[i, :] = np.random.choice(vocab_size, size=sample_size, replace=True, p=word_p)"
   ]
  },
  {
   "cell_type": "code",
   "execution_count": 18,
   "id": "c1abc742",
   "metadata": {},
   "outputs": [
    {
     "name": "stdout",
     "output_type": "stream",
     "text": [
      "[[0 0 1]\n",
      " [1 0 4]\n",
      " [3 1 3]\n",
      " [3 3 2]\n",
      " [3 0 3]\n",
      " [4 4 2]\n",
      " [1 4 1]\n",
      " [0 1 2]\n",
      " [5 1 1]\n",
      " [4 1 5]]\n"
     ]
    }
   ],
   "source": [
    "print(negative_sample)"
   ]
  },
  {
   "cell_type": "markdown",
   "id": "4428a82d",
   "metadata": {},
   "source": [
    "***\n",
    "## NegativeSamplingLoss\n",
    "- EmbeddingDotレイヤ，UnigramSamplerレイヤ，SigmoidWithLossレイヤの組み合わせ\n",
    "- forwardでは中間層のニューロンとターゲットから損失関数を計算する"
   ]
  },
  {
   "cell_type": "markdown",
   "id": "8a6ffbf2",
   "metadata": {},
   "source": [
    "### 初期化 init\n",
    "- EmbeddingDotレイヤに使う重みW，UnigramSamplerで確率計算に使うcorpus，指数powerとsample_sizeを引数として受け取る"
   ]
  },
  {
   "cell_type": "code",
   "execution_count": 24,
   "id": "c4e4eee7",
   "metadata": {},
   "outputs": [
    {
     "name": "stdout",
     "output_type": "stream",
     "text": [
      "W_out: \n",
      " [[0.43108747 0.21280531 0.29782549]\n",
      " [0.80190639 0.67634727 0.38809073]\n",
      " [0.92393452 0.72890279 0.52477641]\n",
      " [0.8280952  0.61218108 0.89187467]\n",
      " [0.72089756 0.5200182  0.29476372]\n",
      " [0.51307117 0.84545686 0.83864454]\n",
      " [0.84172767 0.01887939 0.86639175]\n",
      " [0.57131253 0.53254022 0.65238355]\n",
      " [0.22800543 0.30880185 0.74129552]\n",
      " [0.46369241 0.50884812 0.18668578]]\n",
      "\n",
      "corpus: \n",
      " [1 1 3 2 1 1 0 3 4 5 0 0]\n",
      "\n"
     ]
    }
   ],
   "source": [
    "print(f'W_out: \\n {W_out}', end='\\n\\n')  # 出力側の単語ベクトルとなる重み．語彙数 x word_vec_size\n",
    "print(f'corpus: \\n {corpus}', end='\\n\\n')  # corpusは単語IDの配列"
   ]
  },
  {
   "cell_type": "code",
   "execution_count": 27,
   "id": "2d71326c",
   "metadata": {},
   "outputs": [],
   "source": [
    "power = 0.75\n",
    "sample_size = 5  # 負例として5単語をサンプリング\n",
    "sampler = UnigramSampler(corpus, power, sample_size)  # UnigramSampler初期化\n",
    "loss_layers = [SigmoidWithLoss() for _ in range(sample_size + 1)]  # 負例 + 1(正例)だけLossレイヤがいる\n",
    "embed_dot_layers = [EmbeddingDot(W_out) for _ in range(sample_size + 1)]"
   ]
  },
  {
   "cell_type": "code",
   "execution_count": null,
   "id": "6a4c20c1",
   "metadata": {},
   "outputs": [],
   "source": []
  }
 ],
 "metadata": {
  "kernelspec": {
   "display_name": "Python 3 (ipykernel)",
   "language": "python",
   "name": "python3"
  },
  "language_info": {
   "codemirror_mode": {
    "name": "ipython",
    "version": 3
   },
   "file_extension": ".py",
   "mimetype": "text/x-python",
   "name": "python",
   "nbconvert_exporter": "python",
   "pygments_lexer": "ipython3",
   "version": "3.9.6"
  }
 },
 "nbformat": 4,
 "nbformat_minor": 5
}
