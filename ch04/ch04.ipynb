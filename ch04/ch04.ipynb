{
 "cells": [
  {
   "cell_type": "markdown",
   "id": "8cd44312",
   "metadata": {},
   "source": [
    "# 4章コードの補足"
   ]
  },
  {
   "cell_type": "code",
   "execution_count": 82,
   "id": "9ed67ab3",
   "metadata": {},
   "outputs": [],
   "source": [
    "import sys\n",
    "sys.path.append('..')\n",
    "import numpy as np\n",
    "import collections\n",
    "import pickle\n",
    "from common.trainer import Trainer\n",
    "from common.optimizer import Adam\n",
    "from common.layers import Embedding, SigmoidWithLoss\n",
    "from common.util import create_contexts_target, most_similar, analogy\n",
    "from cbow import CBOW\n",
    "from negative_sampling_layer import EmbeddingDot, UnigramSampler, NegativeSamplingLoss\n",
    "from dataset import ptb"
   ]
  },
  {
   "cell_type": "markdown",
   "id": "f6fb7b0a",
   "metadata": {},
   "source": [
    "# negative_sampling_layer.py"
   ]
  },
  {
   "cell_type": "markdown",
   "id": "52df0c53",
   "metadata": {},
   "source": [
    "## EmbeddingDot\n",
    "- CBOWモデルの多値分類を二値分類で近似するときに，中間層->出力層の処理を担うレイヤ．\n",
    "- 正解単語のEmbedding，その単語ベクトルと中間層の値の内積を実行する．"
   ]
  },
  {
   "cell_type": "markdown",
   "id": "121e2479",
   "metadata": {},
   "source": [
    "### 初期化 init\n",
    "- 引数として重みWを受け取る"
   ]
  },
  {
   "cell_type": "code",
   "execution_count": 2,
   "id": "dd8881d0",
   "metadata": {},
   "outputs": [],
   "source": [
    "W_out = np.random.rand(10, 3)  # 出力層側の重み. 語彙数10, word_vec_size=3の想定\n",
    "embed = Embedding(W_out)  # Embeddingレイヤを生成\n",
    "grads = embed.grads  # Embeddingレイヤの勾配を保持\n",
    "cache = None  # backwardで使う値をfoward時に保持する変数"
   ]
  },
  {
   "cell_type": "markdown",
   "id": "e993b6c5",
   "metadata": {},
   "source": [
    "### forward\n",
    "- 引数の h は中間層のニューロン，idx は正解単語IDの配列"
   ]
  },
  {
   "cell_type": "code",
   "execution_count": 3,
   "id": "9cc21443",
   "metadata": {},
   "outputs": [
    {
     "name": "stdout",
     "output_type": "stream",
     "text": [
      "中間層 h: \n",
      " [[0.82217646 0.54067442 0.05173243]\n",
      " [0.16698862 0.89809902 0.58427625]\n",
      " [0.568241   0.73566202 0.40047943]\n",
      " [0.23597886 0.20087999 0.04115954]\n",
      " [0.82927398 0.94082707 0.86763458]]\n",
      "正解単語ID idx: \n",
      " [0 1 2 0 5]\n"
     ]
    }
   ],
   "source": [
    "h = np.random.rand(5, 3)  # 中間層のニューロン. batch_size=5, word_vec_size=3 の想定．\n",
    "idx = np.array([0, 1, 2, 0, 5])  # 正解の単語ID\n",
    "print(f'中間層 h: \\n {h}')\n",
    "print(f'正解単語ID idx: \\n {idx}')"
   ]
  },
  {
   "cell_type": "code",
   "execution_count": 4,
   "id": "e3bd3c98",
   "metadata": {},
   "outputs": [
    {
     "name": "stdout",
     "output_type": "stream",
     "text": [
      "W_out: \n",
      " [[0.00148998 0.6283421  0.99988542]\n",
      " [0.97660643 0.39624079 0.41144376]\n",
      " [0.9095247  0.63001992 0.55401669]\n",
      " [0.57841941 0.81483218 0.95675048]\n",
      " [0.42541412 0.23011426 0.43545684]\n",
      " [0.93596477 0.93308896 0.47673628]\n",
      " [0.32848788 0.70686374 0.83672024]\n",
      " [0.82526638 0.08024615 0.76952678]\n",
      " [0.26080114 0.77877569 0.39817015]\n",
      " [0.04410811 0.45218073 0.27521224]]\n",
      "target_W_out: \n",
      " [[0.00148998 0.6283421  0.99988542]\n",
      " [0.97660643 0.39624079 0.41144376]\n",
      " [0.9095247  0.63001992 0.55401669]\n",
      " [0.00148998 0.6283421  0.99988542]\n",
      " [0.93596477 0.93308896 0.47673628]]\n"
     ]
    }
   ],
   "source": [
    "target_W_out = embed.forward(idx)  # 正解単語の重みのみを抜き出す\n",
    "print(f'W_out: \\n {W_out}')\n",
    "print(f'target_W_out: \\n {target_W_out}')"
   ]
  },
  {
   "cell_type": "code",
   "execution_count": 5,
   "id": "ba53e8ca",
   "metadata": {},
   "outputs": [
    {
     "name": "stdout",
     "output_type": "stream",
     "text": [
      "out: \n",
      " [0.39268003 0.75934244 1.20218324 0.16772778 2.06767947]\n"
     ]
    }
   ],
   "source": [
    "out = np.sum(target_W_out * h, axis=1)  # 正解単語の重みと中間層の内積計算\n",
    "print(f'out: \\n {out}')"
   ]
  },
  {
   "cell_type": "code",
   "execution_count": 6,
   "id": "eb8597db",
   "metadata": {},
   "outputs": [],
   "source": [
    "cache = (h, target_W_out)  # backward用"
   ]
  },
  {
   "cell_type": "markdown",
   "id": "c91dc8b0",
   "metadata": {},
   "source": [
    "### backward\n",
    "- 勾配 dout を受け取る"
   ]
  },
  {
   "cell_type": "code",
   "execution_count": 7,
   "id": "1bd8a40e",
   "metadata": {},
   "outputs": [
    {
     "name": "stdout",
     "output_type": "stream",
     "text": [
      "dout: \n",
      " [0.60246215 0.60145433 0.97832741 0.38467313 0.86984746]\n"
     ]
    }
   ],
   "source": [
    "dout = np.random.rand(*out.shape)\n",
    "print(f'dout: \\n {dout}')"
   ]
  },
  {
   "cell_type": "code",
   "execution_count": 8,
   "id": "556ff8e1",
   "metadata": {},
   "outputs": [],
   "source": [
    "h, target_W_out = cache"
   ]
  },
  {
   "cell_type": "code",
   "execution_count": 9,
   "id": "bedc588f",
   "metadata": {},
   "outputs": [
    {
     "name": "stdout",
     "output_type": "stream",
     "text": [
      "reshaped dout: \n",
      " [[0.60246215]\n",
      " [0.60145433]\n",
      " [0.97832741]\n",
      " [0.38467313]\n",
      " [0.86984746]]\n"
     ]
    }
   ],
   "source": [
    "dout = dout.reshape(dout.shape[0], 1)  # 二次元に変換\n",
    "print(f'reshaped dout: \\n {dout}')"
   ]
  },
  {
   "cell_type": "code",
   "execution_count": 10,
   "id": "e2ec5fad",
   "metadata": {},
   "outputs": [
    {
     "name": "stdout",
     "output_type": "stream",
     "text": [
      "dtarget_W_out: \n",
      " [[0.4953302  0.32573588 0.03116683]\n",
      " [0.10043603 0.54016555 0.35141548]\n",
      " [0.55592574 0.71971832 0.3918    ]\n",
      " [0.09077473 0.07727313 0.01583297]\n",
      " [0.72134187 0.81837604 0.75470974]]\n"
     ]
    }
   ],
   "source": [
    "dtarget_W_out = dout * h  # 内積の逆伝播\n",
    "print(f'dtarget_W_out: \\n {dtarget_W_out}')"
   ]
  },
  {
   "cell_type": "code",
   "execution_count": 11,
   "id": "d962e06d",
   "metadata": {},
   "outputs": [
    {
     "name": "stdout",
     "output_type": "stream",
     "text": [
      "grads: \n",
      " [array([[0., 0., 0.],\n",
      "       [0., 0., 0.],\n",
      "       [0., 0., 0.],\n",
      "       [0., 0., 0.],\n",
      "       [0., 0., 0.],\n",
      "       [0., 0., 0.],\n",
      "       [0., 0., 0.],\n",
      "       [0., 0., 0.],\n",
      "       [0., 0., 0.],\n",
      "       [0., 0., 0.]])]\n",
      "\n",
      "updated grads: \n",
      " [array([[0.58610492, 0.40300901, 0.0469998 ],\n",
      "       [0.10043603, 0.54016555, 0.35141548],\n",
      "       [0.55592574, 0.71971832, 0.3918    ],\n",
      "       [0.        , 0.        , 0.        ],\n",
      "       [0.        , 0.        , 0.        ],\n",
      "       [0.72134187, 0.81837604, 0.75470974],\n",
      "       [0.        , 0.        , 0.        ],\n",
      "       [0.        , 0.        , 0.        ],\n",
      "       [0.        , 0.        , 0.        ],\n",
      "       [0.        , 0.        , 0.        ]])]\n"
     ]
    }
   ],
   "source": [
    "print(f'grads: \\n {grads}', end='\\n\\n')\n",
    "embed.backward(dtarget_W_out)  # Embeddingレイヤの逆伝播．勾配を更新．\n",
    "print(f'updated grads: \\n {grads}')"
   ]
  },
  {
   "cell_type": "markdown",
   "id": "4e78110b",
   "metadata": {},
   "source": [
    "***\n",
    "## UnigramSampler\n",
    "- CBOWモデルの高速化の後半部分．\n",
    "- 負例をランダムに抽出して学習させる際の選び方．\n",
    "- コーパス中の単語の出現確率に従ってサンプリングする．"
   ]
  },
  {
   "cell_type": "markdown",
   "id": "417fd7d5",
   "metadata": {},
   "source": [
    "### 初期化 init"
   ]
  },
  {
   "cell_type": "code",
   "execution_count": 12,
   "id": "912e9383",
   "metadata": {},
   "outputs": [
    {
     "name": "stdout",
     "output_type": "stream",
     "text": [
      "Counter({0: 3, 1: 2, 3: 2, 4: 2, 5: 2, 2: 1, 6: 1})\n",
      "3\n"
     ]
    }
   ],
   "source": [
    "corpus = np.array([0, 1, 2, 3, 4, 5, 1, 0, 3, 4, 5, 0, 6])  # コーパスは単語IDのリスト\n",
    "power = 0.75  # 確率に1未満で累乗し，低頻度の単語に下駄をはかせる\n",
    "sample_size = 3  # サンプリングする数\n",
    "\n",
    "# Counterでコーパス中の単語の出現回数をカウントできる\n",
    "counts = collections.Counter()\n",
    "for word_id in corpus:\n",
    "    counts[word_id] += 1\n",
    "print(counts)\n",
    "print(counts[0])"
   ]
  },
  {
   "cell_type": "code",
   "execution_count": 13,
   "id": "122772d4",
   "metadata": {
    "scrolled": true
   },
   "outputs": [
    {
     "name": "stdout",
     "output_type": "stream",
     "text": [
      "original p: [3. 2. 1. 2. 2. 2. 1.]\n",
      "powerd word_p: [2.27950706 1.68179283 1.         1.68179283 1.68179283 1.68179283\n",
      " 1.        ]\n",
      "\n",
      "p_out: [0.23076923 0.15384615 0.07692308 0.15384615 0.15384615 0.15384615\n",
      " 0.07692308]\n",
      "word_p_out: [0.20710218 0.15279749 0.09085393 0.15279749 0.15279749 0.15279749\n",
      " 0.09085393]\n"
     ]
    }
   ],
   "source": [
    "vocab_size = len(counts)  # 語彙数 = countsの長さ\n",
    "\n",
    "p = np.zeros(vocab_size)  # 語彙数と同じ要素数の配列で確率を保持する\n",
    "\n",
    "# 各単語IDの出現回数を格納\n",
    "for i in range(vocab_size):\n",
    "    p[i] = counts[i]\n",
    "\n",
    "# 出現回数を0.75乗して稀な単語の確率に少し下駄をはかせる\n",
    "word_p = np.power(p, power)\n",
    "print(f'original p: {p}')\n",
    "print(f'powerd word_p: {word_p}', end='\\n\\n')\n",
    "\n",
    "# np.sum(p) = 単語数 で割って確率にする\n",
    "p /= np.sum(p)\n",
    "word_p /= np.sum(word_p)\n",
    "print(f'p_out: {p}')\n",
    "print(f'word_p_out: {word_p}')"
   ]
  },
  {
   "cell_type": "markdown",
   "id": "4392674a",
   "metadata": {},
   "source": [
    "### get_negative_sample"
   ]
  },
  {
   "cell_type": "code",
   "execution_count": 14,
   "id": "5784c17e",
   "metadata": {},
   "outputs": [],
   "source": [
    "# コンテキストとターゲットを作る\n",
    "window_size = 1\n",
    "contexts, target = create_contexts_target(corpus, window_size)"
   ]
  },
  {
   "cell_type": "code",
   "execution_count": 15,
   "id": "964407c7",
   "metadata": {},
   "outputs": [],
   "source": [
    "batch_size = target.shape[0]"
   ]
  },
  {
   "cell_type": "code",
   "execution_count": 16,
   "id": "daf07d0f",
   "metadata": {},
   "outputs": [
    {
     "name": "stdout",
     "output_type": "stream",
     "text": [
      "[[0 0 0]\n",
      " [0 0 0]\n",
      " [0 0 0]\n",
      " [0 0 0]\n",
      " [0 0 0]\n",
      " [0 0 0]\n",
      " [0 0 0]\n",
      " [0 0 0]\n",
      " [0 0 0]\n",
      " [0 0 0]\n",
      " [0 0 0]]\n"
     ]
    }
   ],
   "source": [
    "negative_sample = np.zeros((batch_size, sample_size), dtype=np.int32)\n",
    "print(negative_sample)"
   ]
  },
  {
   "cell_type": "code",
   "execution_count": 17,
   "id": "32c3f138",
   "metadata": {},
   "outputs": [],
   "source": [
    "for i in range(batch_size):\n",
    "    p = word_p.copy()  # 確率を取得\n",
    "    target_idx = target[i]  # ターゲットを保持\n",
    "    p[target_idx] = 0  # ターゲットの確率は0\n",
    "    p /= p.sum()  # ターゲットを除いて確率を再計算\n",
    "    negative_sample[i, :] = np.random.choice(vocab_size, size=sample_size, replace=True, p=word_p)"
   ]
  },
  {
   "cell_type": "code",
   "execution_count": 18,
   "id": "c1abc742",
   "metadata": {},
   "outputs": [
    {
     "name": "stdout",
     "output_type": "stream",
     "text": [
      "[[1 1 4]\n",
      " [0 3 4]\n",
      " [0 3 5]\n",
      " [0 3 5]\n",
      " [1 0 4]\n",
      " [3 0 0]\n",
      " [4 0 1]\n",
      " [4 0 5]\n",
      " [0 1 4]\n",
      " [0 5 4]\n",
      " [0 1 6]]\n"
     ]
    }
   ],
   "source": [
    "print(negative_sample)"
   ]
  },
  {
   "cell_type": "markdown",
   "id": "4428a82d",
   "metadata": {},
   "source": [
    "***\n",
    "## NegativeSamplingLoss\n",
    "- EmbeddingDotレイヤ，UnigramSamplerレイヤ，SigmoidWithLossレイヤの組み合わせ\n",
    "- forwardでは中間層のニューロンとターゲットから損失関数を計算する"
   ]
  },
  {
   "cell_type": "markdown",
   "id": "8a6ffbf2",
   "metadata": {},
   "source": [
    "### 初期化 init\n",
    "- EmbeddingDotレイヤに使う重みW，UnigramSamplerで確率計算に使うcorpus，指数powerとsample_sizeを引数として受け取る"
   ]
  },
  {
   "cell_type": "code",
   "execution_count": 19,
   "id": "c4e4eee7",
   "metadata": {},
   "outputs": [
    {
     "name": "stdout",
     "output_type": "stream",
     "text": [
      "=== 初期化で使う引数 ===\n",
      "W_out: \n",
      " [[0.00148998 0.6283421  0.99988542]\n",
      " [0.97660643 0.39624079 0.41144376]\n",
      " [0.9095247  0.63001992 0.55401669]\n",
      " [0.57841941 0.81483218 0.95675048]\n",
      " [0.42541412 0.23011426 0.43545684]\n",
      " [0.93596477 0.93308896 0.47673628]\n",
      " [0.32848788 0.70686374 0.83672024]\n",
      " [0.82526638 0.08024615 0.76952678]\n",
      " [0.26080114 0.77877569 0.39817015]\n",
      " [0.04410811 0.45218073 0.27521224]]\n",
      "\n",
      "corpus: [0 1 2 3 4 5 1 0 3 4 5 0 6]\n",
      "\n",
      "power: 0.75\n",
      "\n",
      "sample_size: 3\n",
      "\n",
      "=========================\n",
      "contexts: \n",
      " [[0 2]\n",
      " [1 3]\n",
      " [2 4]\n",
      " [3 5]\n",
      " [4 1]\n",
      " [5 0]\n",
      " [1 3]\n",
      " [0 4]\n",
      " [3 5]\n",
      " [4 0]\n",
      " [5 6]]\n",
      "\n",
      "target: \n",
      " [1 2 3 4 5 1 0 3 4 5 0]\n",
      "\n",
      "h: \n",
      " [[0.84685668 0.72092516 0.9344035 ]\n",
      " [0.24708944 0.84804312 0.03429725]\n",
      " [0.14894109 0.43675012 0.90935181]\n",
      " [0.49722102 0.36995068 0.73048223]\n",
      " [0.85934985 0.49575536 0.14605255]\n",
      " [0.14829678 0.58799207 0.70057522]\n",
      " [0.74568939 0.80730954 0.83528947]\n",
      " [0.95127202 0.48539179 0.5365676 ]\n",
      " [0.92476386 0.26496706 0.27334077]\n",
      " [0.75132238 0.24873723 0.28398542]\n",
      " [0.70844142 0.87689463 0.60357869]]\n"
     ]
    }
   ],
   "source": [
    "print('=== 初期化で使う引数 ===')\n",
    "print(f'W_out: \\n {W_out}', end='\\n\\n')  # 出力側の単語ベクトルとなる重み．語彙数 x word_vec_size\n",
    "print(f'corpus: {corpus}', end='\\n\\n')  # corpusは単語IDの配列\n",
    "power = 0.75\n",
    "print(f'power: {power}', end='\\n\\n')\n",
    "sample_size = 3\n",
    "print(f'sample_size: {sample_size}', end='\\n\\n')\n",
    "\n",
    "print('=========================')\n",
    "print(f'contexts: \\n {contexts}', end='\\n\\n')  # contextsは単語IDの二次元配列\n",
    "print(f'target: \\n {target}', end='\\n\\n')  # targetは単語IDの配列\n",
    "batch_size = target.shape[0]\n",
    "h = np.random.rand(batch_size, 3)   # 中間層のニューロン\n",
    "print(f'h: \\n {h}')"
   ]
  },
  {
   "cell_type": "code",
   "execution_count": 20,
   "id": "2d71326c",
   "metadata": {},
   "outputs": [],
   "source": [
    "sampler = UnigramSampler(corpus, power, sample_size)  # UnigramSampler初期化\n",
    "loss_layers = [SigmoidWithLoss() for _ in range(sample_size + 1)]  # 負例 + 1(正例)だけ必要\n",
    "embed_dot_layers = [EmbeddingDot(W_out) for _ in range(sample_size + 1)]  # 負例 + 1(正例)だけ必要"
   ]
  },
  {
   "cell_type": "code",
   "execution_count": 21,
   "id": "6a4c20c1",
   "metadata": {},
   "outputs": [],
   "source": [
    "# embed_dot_layersのパラメータと勾配をリストにまとめる\n",
    "params, grads = [], []\n",
    "for layer in embed_dot_layers:\n",
    "    params.append(layer.params)\n",
    "    grads.append(layer.grads)"
   ]
  },
  {
   "cell_type": "code",
   "execution_count": 22,
   "id": "d2f00104",
   "metadata": {
    "scrolled": true
   },
   "outputs": [
    {
     "name": "stdout",
     "output_type": "stream",
     "text": [
      "重みと勾配はEmbeddingDotレイヤの数 = 負例 + 1(正例)\n",
      "\n",
      "length of params: 4\n",
      "length of grads : 4\n"
     ]
    }
   ],
   "source": [
    "print('重みと勾配はEmbeddingDotレイヤの数 = 負例 + 1(正例)', end='\\n\\n')\n",
    "print(f'length of params: {len(params)}')\n",
    "print(f'length of grads : {len(grads)}')"
   ]
  },
  {
   "cell_type": "markdown",
   "id": "d9bfd421",
   "metadata": {},
   "source": [
    "### forward"
   ]
  },
  {
   "cell_type": "code",
   "execution_count": 23,
   "id": "6a79d057",
   "metadata": {},
   "outputs": [
    {
     "name": "stdout",
     "output_type": "stream",
     "text": [
      "target: \n",
      " [1 2 3 4 5 1 0 3 4 5 0]\n",
      "batch_size: \n",
      " 11\n"
     ]
    }
   ],
   "source": [
    "batch_size = target.shape[0]\n",
    "print(f'target: \\n {target}')\n",
    "print(f'batch_size: \\n {batch_size}')"
   ]
  },
  {
   "cell_type": "code",
   "execution_count": 24,
   "id": "28fb7ca9",
   "metadata": {},
   "outputs": [
    {
     "name": "stdout",
     "output_type": "stream",
     "text": [
      "negative_sample: \n",
      " [[2 0 3]\n",
      " [5 3 6]\n",
      " [1 0 6]\n",
      " [2 3 0]\n",
      " [4 0 2]\n",
      " [0 5 2]\n",
      " [1 5 2]\n",
      " [0 1 5]\n",
      " [0 3 6]\n",
      " [4 2 6]\n",
      " [2 3 1]]\n"
     ]
    }
   ],
   "source": [
    "# 負例(targetではない単語)をコーパス中の確率に応じてサンプリングする\n",
    "negative_sample = sampler.get_negative_sample(target)\n",
    "print(f'negative_sample: \\n {negative_sample}')"
   ]
  },
  {
   "cell_type": "code",
   "execution_count": 25,
   "id": "92ac72c1",
   "metadata": {},
   "outputs": [],
   "source": [
    "# 正例のフォワード\n",
    "# embed_dot_layersとloss_layersの0番目を正例のレイヤとしている\n",
    "score = embed_dot_layers[0].forward(h, target)  # EmbeddingDotレイヤのforward\n",
    "correct_label = np.ones(batch_size, dtype=np.int32)  # 正例は正解ラベルとして1を渡す\n",
    "loss = loss_layers[0].forward(score, correct_label)  # SigmoidWithLossレイヤ"
   ]
  },
  {
   "cell_type": "code",
   "execution_count": 26,
   "id": "88709172",
   "metadata": {},
   "outputs": [],
   "source": [
    "# 負例のフォワード\n",
    "# embed_dot_layersとloss_layersの1番目以降を負例のレイヤとしている\n",
    "negative_label = np.zeros(batch_size, dtype=np.int32)  # 負例は正解ラベルとして0を渡す\n",
    "for i in range(sample_size):\n",
    "    negative_target = negative_sample[:, i]  # サンプルサイズの回数ループ．バッチ処理．\n",
    "    score = embed_dot_layers[i+1].forward(h, negative_target)  # EmbeddingDotレイヤのforward\n",
    "    loss += loss_layers[i+1].forward(score, negative_label)  # SigmoidWithLossレイヤのforward"
   ]
  },
  {
   "cell_type": "code",
   "execution_count": 27,
   "id": "603b1fe6",
   "metadata": {},
   "outputs": [
    {
     "name": "stdout",
     "output_type": "stream",
     "text": [
      "loss: \n",
      " 4.542997205249307\n"
     ]
    }
   ],
   "source": [
    "print(f'loss: \\n {loss}')"
   ]
  },
  {
   "cell_type": "markdown",
   "id": "75116810",
   "metadata": {},
   "source": [
    "### backward"
   ]
  },
  {
   "cell_type": "code",
   "execution_count": 28,
   "id": "d8b412a4",
   "metadata": {},
   "outputs": [],
   "source": [
    "dout = 1"
   ]
  },
  {
   "cell_type": "code",
   "execution_count": 29,
   "id": "d6646410",
   "metadata": {},
   "outputs": [
    {
     "name": "stdout",
     "output_type": "stream",
     "text": [
      "dh: \n",
      " [[0.10039006 0.15288929 0.18511488]\n",
      " [0.09386252 0.13985399 0.12838103]\n",
      " [0.07063495 0.10046531 0.13340828]\n",
      " [0.0896187  0.1349287  0.1577672 ]\n",
      " [0.07001426 0.07434188 0.11020016]\n",
      " [0.09120379 0.13332064 0.12259665]\n",
      " [0.21395567 0.13836856 0.09084342]\n",
      " [0.13135079 0.12508738 0.11285017]\n",
      " [0.04479538 0.12477201 0.15600041]\n",
      " [0.0824505  0.07557974 0.10052784]\n",
      " [0.18200571 0.12429364 0.12251918]]\n",
      "h : \n",
      " [[0.84685668 0.72092516 0.9344035 ]\n",
      " [0.24708944 0.84804312 0.03429725]\n",
      " [0.14894109 0.43675012 0.90935181]\n",
      " [0.49722102 0.36995068 0.73048223]\n",
      " [0.85934985 0.49575536 0.14605255]\n",
      " [0.14829678 0.58799207 0.70057522]\n",
      " [0.74568939 0.80730954 0.83528947]\n",
      " [0.95127202 0.48539179 0.5365676 ]\n",
      " [0.92476386 0.26496706 0.27334077]\n",
      " [0.75132238 0.24873723 0.28398542]\n",
      " [0.70844142 0.87689463 0.60357869]]\n"
     ]
    }
   ],
   "source": [
    "# dhを初期化\n",
    "dh = 0\n",
    "\n",
    "# SigmoidWithLossレイヤ->EmbeddingDotレイヤの順にbackward\n",
    "for l0, l1 in zip(loss_layers, embed_dot_layers):\n",
    "    dscore = l0.backward(dout)\n",
    "    dh += l1.backward(dscore)  # hの順伝播はリピートノードなので，逆伝播では足し合わせる\n",
    "    \n",
    "print(f'dh: \\n {dh}')\n",
    "print(f'h : \\n {h}')"
   ]
  },
  {
   "cell_type": "markdown",
   "id": "4b0868a6",
   "metadata": {},
   "source": [
    "***\n",
    "# cbow.py\n",
    "### CBOW\n",
    "- 改良版CBOWモデル．\n",
    "- EmbeddingレイヤとNegativeSamplingLossレイヤを使う．"
   ]
  },
  {
   "cell_type": "markdown",
   "id": "c113b8d2",
   "metadata": {},
   "source": [
    "### 初期化 init"
   ]
  },
  {
   "cell_type": "code",
   "execution_count": 30,
   "id": "347adda5",
   "metadata": {},
   "outputs": [
    {
     "name": "stdout",
     "output_type": "stream",
     "text": [
      "===引数===\n",
      "vocab_size: 7\n",
      "hidden_size: 3\n",
      "corpus: [0 1 2 3 4 5 1 0 3 4 5 0 6]\n",
      "window_size: 2\n"
     ]
    }
   ],
   "source": [
    "hidden_size = 3  # embeddingした単語ベクトルの次元\n",
    "window_size = 2  # targetの両側いくつか？\n",
    "\n",
    "print('===引数===')\n",
    "print(f'vocab_size: {vocab_size}')\n",
    "print(f'hidden_size: {hidden_size}')\n",
    "print(f'corpus: {corpus}')\n",
    "print(f'window_size: {window_size}')"
   ]
  },
  {
   "cell_type": "code",
   "execution_count": 31,
   "id": "bb77a0d0",
   "metadata": {},
   "outputs": [],
   "source": [
    "# 重みの初期化\n",
    "V, H = vocab_size, hidden_size\n",
    "W_in = 0.01 * np.random.randn(V, H).astype('f')\n",
    "W_out = 0.01 * np.random.randn(V, H).astype('f')"
   ]
  },
  {
   "cell_type": "code",
   "execution_count": 32,
   "id": "3e424770",
   "metadata": {},
   "outputs": [],
   "source": [
    "# レイヤの生成\n",
    "in_layers = []\n",
    "for i in range(window_size*2):\n",
    "    layer = Embedding(W_in)\n",
    "    in_layers.append(layer)\n",
    "ns_loss = NegativeSamplingLoss(W_out, corpus, power=0.75, sample_size=2)"
   ]
  },
  {
   "cell_type": "code",
   "execution_count": 33,
   "id": "1635e758",
   "metadata": {},
   "outputs": [],
   "source": [
    "# 重みと勾配をリストで管理する\n",
    "layers = in_layers + [ns_loss]\n",
    "params, grads = [], []\n",
    "for layer in layers:\n",
    "    params.append(layer.params)\n",
    "    grads.append(layer.grads)"
   ]
  },
  {
   "cell_type": "code",
   "execution_count": 34,
   "id": "483146b6",
   "metadata": {},
   "outputs": [],
   "source": [
    "# インスタンス変数に単語の分散表現を設定\n",
    "word_vecs = W_in"
   ]
  },
  {
   "cell_type": "markdown",
   "id": "0d42d5bc",
   "metadata": {},
   "source": [
    "### forward"
   ]
  },
  {
   "cell_type": "code",
   "execution_count": 35,
   "id": "3453452a",
   "metadata": {},
   "outputs": [
    {
     "name": "stdout",
     "output_type": "stream",
     "text": [
      "contexts\n",
      "[[0 1 3 4]\n",
      " [1 2 4 5]\n",
      " [2 3 5 1]\n",
      " [3 4 1 0]\n",
      " [4 5 0 3]\n",
      " [5 1 3 4]\n",
      " [1 0 4 5]\n",
      " [0 3 5 0]\n",
      " [3 4 0 6]]\n",
      "targets\n",
      "[2 3 4 5 1 0 3 4 5]\n"
     ]
    }
   ],
   "source": [
    "contexts, targets = create_contexts_target(corpus, window_size)\n",
    "print('contexts')\n",
    "print(contexts)\n",
    "print('targets')\n",
    "print(targets)"
   ]
  },
  {
   "cell_type": "code",
   "execution_count": 36,
   "id": "60eb6613",
   "metadata": {},
   "outputs": [
    {
     "name": "stdout",
     "output_type": "stream",
     "text": [
      "2.079440434773763\n"
     ]
    }
   ],
   "source": [
    "h = 0\n",
    "for i, layer in enumerate(in_layers):\n",
    "    h += layer.forward(contexts[:, i])  # Embeddingレイヤの順伝播\n",
    "h *= 1 / len(in_layers)  # コンテキスト全体の平均を中間層のニューロンとする\n",
    "loss = ns_loss.forward(h, targets)\n",
    "print(loss)"
   ]
  },
  {
   "cell_type": "markdown",
   "id": "eca8dc6d",
   "metadata": {},
   "source": [
    "### backward"
   ]
  },
  {
   "cell_type": "code",
   "execution_count": 37,
   "id": "d57cd8a5",
   "metadata": {},
   "outputs": [
    {
     "name": "stdout",
     "output_type": "stream",
     "text": [
      "========= before backward =========\n",
      "grad of ns_loss\n",
      "[array([[0., 0., 0.],\n",
      "       [0., 0., 0.],\n",
      "       [0., 0., 0.],\n",
      "       [0., 0., 0.],\n",
      "       [0., 0., 0.],\n",
      "       [0., 0., 0.],\n",
      "       [0., 0., 0.]], dtype=float32), array([[0., 0., 0.],\n",
      "       [0., 0., 0.],\n",
      "       [0., 0., 0.],\n",
      "       [0., 0., 0.],\n",
      "       [0., 0., 0.],\n",
      "       [0., 0., 0.],\n",
      "       [0., 0., 0.]], dtype=float32), array([[0., 0., 0.],\n",
      "       [0., 0., 0.],\n",
      "       [0., 0., 0.],\n",
      "       [0., 0., 0.],\n",
      "       [0., 0., 0.],\n",
      "       [0., 0., 0.],\n",
      "       [0., 0., 0.]], dtype=float32)]\n",
      "grad of in_layer_0\n",
      "[array([[0., 0., 0.],\n",
      "       [0., 0., 0.],\n",
      "       [0., 0., 0.],\n",
      "       [0., 0., 0.],\n",
      "       [0., 0., 0.],\n",
      "       [0., 0., 0.],\n",
      "       [0., 0., 0.]], dtype=float32)]\n",
      "========= after backward =========\n",
      "grad of ns_loss\n",
      "[array([[-0.00021695,  0.00056938,  0.00012028],\n",
      "       [-0.00034354,  0.00038117, -0.00036443],\n",
      "       [-0.00011008,  0.00057971, -0.00013255],\n",
      "       [-0.00053953,  0.00043156,  0.00031197],\n",
      "       [-0.00072975,  0.00023441, -0.00102891],\n",
      "       [-0.00018531,  0.00103815, -0.00053802],\n",
      "       [ 0.        ,  0.        ,  0.        ]], dtype=float32), array([[ 3.00710701e-04, -7.87490862e-04,  6.02939181e-05],\n",
      "       [ 6.97866955e-04, -2.38838038e-04,  6.00755913e-04],\n",
      "       [ 2.16967062e-04, -5.69432334e-04, -1.20288176e-04],\n",
      "       [ 4.18694923e-04, -8.39413493e-04,  7.69772159e-04],\n",
      "       [ 0.00000000e+00,  0.00000000e+00,  0.00000000e+00],\n",
      "       [ 3.80696612e-04, -2.19378926e-04,  1.88329781e-04],\n",
      "       [ 1.10097608e-04, -5.79781015e-04,  1.32566754e-04]], dtype=float32), array([[ 4.5902721e-04, -8.0362451e-04, -1.0714180e-04],\n",
      "       [ 5.7130272e-04, -4.2708655e-04,  1.1606253e-04],\n",
      "       [ 3.4895199e-04, -1.5000917e-05,  8.4043382e-04],\n",
      "       [ 1.1008177e-04, -5.7969760e-04,  1.3254766e-04],\n",
      "       [ 7.5204218e-05, -4.5832060e-04,  4.0542046e-04],\n",
      "       [ 5.6044251e-04, -9.5049257e-04,  2.4412142e-04],\n",
      "       [ 0.0000000e+00,  0.0000000e+00,  0.0000000e+00]], dtype=float32)]\n",
      "grad of in_layer_0\n",
      "[array([[ 4.0821213e-04,  2.4700261e-04, -8.3431980e-05],\n",
      "       [-2.1206693e-05, -3.6435644e-04,  3.3333950e-04],\n",
      "       [ 2.7610673e-04,  4.4589586e-04,  1.4791648e-04],\n",
      "       [-1.7473988e-04, -7.2219386e-04, -4.9156119e-04],\n",
      "       [ 6.2083091e-05,  3.0076364e-04, -8.9475689e-05],\n",
      "       [-2.3271496e-04,  2.1914943e-04,  6.4492997e-05],\n",
      "       [ 0.0000000e+00,  0.0000000e+00,  0.0000000e+00]], dtype=float32)]\n"
     ]
    }
   ],
   "source": [
    "print('========= before backward =========')\n",
    "print('grad of ns_loss')\n",
    "print(grads[-1])\n",
    "\n",
    "print('grad of in_layer_0')\n",
    "print(grads[0])\n",
    "\n",
    "dout = 1\n",
    "dout = ns_loss.backward(dout)\n",
    "dout *= 1 / len(in_layers)  # コンテキスト一つ分の損失にする\n",
    "for layer in in_layers:\n",
    "    layer.backward(dout)\n",
    "    \n",
    "print('========= after backward =========')\n",
    "print('grad of ns_loss')\n",
    "print(grads[-1])\n",
    "\n",
    "print('grad of in_layer_0')\n",
    "print(grads[0])"
   ]
  },
  {
   "cell_type": "markdown",
   "id": "3607ec95",
   "metadata": {},
   "source": [
    "***\n",
    "# train.py\n",
    "- 改良版CBOWモデルの学習コード"
   ]
  },
  {
   "cell_type": "code",
   "execution_count": 63,
   "id": "fef64e5d",
   "metadata": {},
   "outputs": [],
   "source": [
    "# ハイパーパラメータ設定\n",
    "window_size = 5\n",
    "hidden_size = 100\n",
    "batch_size = 100\n",
    "max_epoch = 10"
   ]
  },
  {
   "cell_type": "code",
   "execution_count": 64,
   "id": "6a6defe0",
   "metadata": {},
   "outputs": [],
   "source": [
    "# データ読み込み\n",
    "corpus, word_to_id, id_to_word = ptb.load_data('train')\n",
    "vocab_size = len(word_to_id)\n",
    "contexts, target = create_contexts_target(corpus, window_size)"
   ]
  },
  {
   "cell_type": "code",
   "execution_count": 65,
   "id": "76f819c3",
   "metadata": {},
   "outputs": [],
   "source": [
    "# モデル生成\n",
    "model = CBOW(vocab_size, hidden_size, window_size, corpus)\n",
    "optimizer = Adam()\n",
    "trainer = Trainer(model, optimizer)"
   ]
  },
  {
   "cell_type": "code",
   "execution_count": 66,
   "id": "469a762f",
   "metadata": {},
   "outputs": [
    {
     "name": "stdout",
     "output_type": "stream",
     "text": [
      "model: <class 'cbow.CBOW'>\n",
      "num of in_layers: 10\n",
      "num of params of a in_layer: 1\n",
      "num of params of ns_loss: 6\n",
      "num of params: 16\n"
     ]
    }
   ],
   "source": [
    "print(f'model: {type(model)}')\n",
    "print(f'num of in_layers: {len(model.in_layers)}')  # window_size=5なのでin_layerは10個\n",
    "print(f'num of params of a in_layer: {len(model.in_layers[0].params)}')  # Embeddingレイヤは重み1個\n",
    "# NegativeSamplingLossレイヤのEmbeddingDotレイヤに重みが1個\n",
    "# sample_sizeのdefault値5+1(正例分)\n",
    "print(f'num of params of ns_loss: {len(model.ns_loss.params)}')\n",
    "print(f'num of params: {len(model.params)}')  # 計16個のパラメータ"
   ]
  },
  {
   "cell_type": "code",
   "execution_count": 68,
   "id": "7b2ffc89",
   "metadata": {
    "scrolled": true
   },
   "outputs": [],
   "source": [
    "# trainer.fit(contexts, target, max_epoch, batch_size)\n",
    "# 学習はgpu環境でないとキツイ"
   ]
  },
  {
   "cell_type": "markdown",
   "id": "fc962017",
   "metadata": {},
   "source": [
    "***\n",
    "# eval.py\n",
    "- CBOWモデルによる単語の分散表現の評価\n",
    "- 学習済みパラメータを読み込んで使用"
   ]
  },
  {
   "cell_type": "code",
   "execution_count": 70,
   "id": "466dbe09",
   "metadata": {},
   "outputs": [],
   "source": [
    "pkl_file = 'cbow_params.pkl'\n",
    "with open(pkl_file, 'rb') as f:\n",
    "    params = pickle.load(f)\n",
    "    \n",
    "word_vecs = params['word_vecs']\n",
    "id_to_word = params['id_to_word']\n",
    "word_to_id = params['word_to_id']"
   ]
  },
  {
   "cell_type": "code",
   "execution_count": 80,
   "id": "387331e0",
   "metadata": {},
   "outputs": [
    {
     "name": "stdout",
     "output_type": "stream",
     "text": [
      "\n",
      "[query] you\n",
      " we: 0.6103515625\n",
      " someone: 0.59130859375\n",
      " i: 0.55419921875\n",
      " something: 0.48974609375\n",
      " anyone: 0.47314453125\n",
      "\n",
      "[query] year\n",
      " month: 0.71875\n",
      " week: 0.65234375\n",
      " spring: 0.62744140625\n",
      " summer: 0.6259765625\n",
      " decade: 0.603515625\n",
      "\n",
      "[query] car\n",
      " luxury: 0.497314453125\n",
      " arabia: 0.47802734375\n",
      " auto: 0.47119140625\n",
      " disk-drive: 0.450927734375\n",
      " travel: 0.4091796875\n",
      "\n",
      "[query] toyota\n",
      " ford: 0.55078125\n",
      " instrumentation: 0.509765625\n",
      " mazda: 0.49365234375\n",
      " bethlehem: 0.47509765625\n",
      " nissan: 0.474853515625\n"
     ]
    }
   ],
   "source": [
    "# 近い単語\n",
    "querys = ['you', 'year', 'car', 'toyota']\n",
    "for query in querys:\n",
    "    most_similar(query, word_to_id, id_to_word, word_vecs, top=5)"
   ]
  },
  {
   "cell_type": "code",
   "execution_count": 84,
   "id": "674de37a",
   "metadata": {},
   "outputs": [
    {
     "name": "stdout",
     "output_type": "stream",
     "text": [
      "\n",
      "[analogy] king:man = queen:?\n",
      " woman: 5.16015625\n",
      " veto: 4.9296875\n",
      " ounce: 4.69140625\n",
      " earthquake: 4.6328125\n",
      " successor: 4.609375\n"
     ]
    }
   ],
   "source": [
    "# アナロジー問題\n",
    "analogy('king', 'man', 'queen', word_to_id, id_to_word, word_vecs, top=5)"
   ]
  },
  {
   "cell_type": "code",
   "execution_count": 85,
   "id": "be6d723c",
   "metadata": {},
   "outputs": [
    {
     "name": "stdout",
     "output_type": "stream",
     "text": [
      "\n",
      "[analogy] take:took = go:?\n",
      " went: 4.55078125\n",
      " points: 4.25\n",
      " began: 4.09375\n",
      " comes: 3.98046875\n",
      " oct.: 3.90625\n"
     ]
    }
   ],
   "source": [
    "analogy('take', 'took', 'go', word_to_id, id_to_word, word_vecs, top=5)"
   ]
  },
  {
   "cell_type": "code",
   "execution_count": 88,
   "id": "2e7bb9c3",
   "metadata": {},
   "outputs": [
    {
     "name": "stdout",
     "output_type": "stream",
     "text": [
      "\n",
      "[analogy] car:cars = child:?\n",
      " children: 5.21875\n",
      " average: 4.7265625\n",
      " yield: 4.20703125\n",
      " cattle: 4.1875\n",
      " priced: 4.1796875\n"
     ]
    }
   ],
   "source": [
    "analogy('car', 'cars', 'child', word_to_id, id_to_word, word_vecs, top=5)"
   ]
  },
  {
   "cell_type": "code",
   "execution_count": 87,
   "id": "f8d2d69f",
   "metadata": {},
   "outputs": [
    {
     "name": "stdout",
     "output_type": "stream",
     "text": [
      "\n",
      "[analogy] good:better = bad:?\n",
      " more: 6.6484375\n",
      " less: 6.0625\n",
      " rather: 5.21875\n",
      " slower: 4.734375\n",
      " greater: 4.671875\n"
     ]
    }
   ],
   "source": [
    "analogy('good', 'better', 'bad', word_to_id, id_to_word, word_vecs, top=5)"
   ]
  },
  {
   "cell_type": "code",
   "execution_count": 91,
   "id": "9d581913",
   "metadata": {},
   "outputs": [
    {
     "name": "stdout",
     "output_type": "stream",
     "text": [
      "\n",
      "[analogy] small:big = short:?\n",
      " ual: 4.87109375\n",
      " board: 4.48046875\n",
      " trading: 4.44140625\n",
      " dow: 4.125\n",
      " nasdaq: 3.8203125\n"
     ]
    }
   ],
   "source": [
    "analogy('small', 'big', 'short', word_to_id, id_to_word, word_vecs, top=5)"
   ]
  },
  {
   "cell_type": "code",
   "execution_count": null,
   "id": "1d077532",
   "metadata": {},
   "outputs": [],
   "source": [
    "analogy('small', 'big', 'short', word_to_id, id_to_word, word_vecs, top=5)"
   ]
  }
 ],
 "metadata": {
  "kernelspec": {
   "display_name": "Python 3 (ipykernel)",
   "language": "python",
   "name": "python3"
  },
  "language_info": {
   "codemirror_mode": {
    "name": "ipython",
    "version": 3
   },
   "file_extension": ".py",
   "mimetype": "text/x-python",
   "name": "python",
   "nbconvert_exporter": "python",
   "pygments_lexer": "ipython3",
   "version": "3.9.6"
  }
 },
 "nbformat": 4,
 "nbformat_minor": 5
}
