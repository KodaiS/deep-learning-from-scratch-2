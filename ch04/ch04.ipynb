{
 "cells": [
  {
   "cell_type": "markdown",
   "id": "8cd44312",
   "metadata": {},
   "source": [
    "# 4章コードの補足"
   ]
  },
  {
   "cell_type": "code",
   "execution_count": 1,
   "id": "9ed67ab3",
   "metadata": {},
   "outputs": [],
   "source": [
    "import numpy as np\n",
    "import collections"
   ]
  },
  {
   "cell_type": "markdown",
   "id": "f6fb7b0a",
   "metadata": {},
   "source": [
    "# negative_sampling_layer\n",
    "## UnigramSampler\n",
    "- CBOWモデルの高速化の後半部分．\n",
    "- 負例をランダムに抽出して学習させる際の選び方．\n",
    "- コーパス中の単語の出現確率に従ってサンプリングする．"
   ]
  },
  {
   "cell_type": "code",
   "execution_count": 13,
   "id": "5371fb78",
   "metadata": {},
   "outputs": [
    {
     "name": "stdout",
     "output_type": "stream",
     "text": [
      "Counter({1: 4, 0: 3, 3: 2, 2: 1, 4: 1, 5: 1})\n",
      "3\n"
     ]
    }
   ],
   "source": [
    "# コーパスは単語IDのリスト．\n",
    "corpus = np.array([1, 1, 3, 2, 1, 1, 0, 3, 4, 5, 0, 0])\n",
    "\n",
    "# Counterでコーパス中の単語の出現回数をカウントできる\n",
    "counts = collections.Counter()\n",
    "for word_id in corpus:\n",
    "    counts[word_id] += 1\n",
    "print(counts)\n",
    "print(counts[0])"
   ]
  },
  {
   "cell_type": "code",
   "execution_count": 21,
   "id": "122772d4",
   "metadata": {
    "scrolled": true
   },
   "outputs": [
    {
     "name": "stdout",
     "output_type": "stream",
     "text": [
      "original_p: [3. 4. 1. 2. 1. 1.]\n",
      "word_p: [2.27950706 2.82842712 1.         1.68179283 1.         1.        ]\n",
      "p_out: [0.25       0.33333333 0.08333333 0.16666667 0.08333333 0.08333333]\n",
      "word_p_out: [0.23284685 0.28891787 0.10214789 0.1717916  0.10214789 0.10214789]\n"
     ]
    }
   ],
   "source": [
    "vocab_size = len(counts)  # countsの長さが語彙数\n",
    "p = np.zeros(vocab_size)  # 語彙数と同じ要素数の出力となる配列を用意\n",
    "for i in range(vocab_size):\n",
    "    p[i] = counts[i]  # pのi番目に単語IDがiの出現回数を格納\n",
    "\n",
    "# 出現回数を0.75乗して稀な単語の確率に少し下駄をはかせる\n",
    "power = 0.75\n",
    "word_p = np.power(p, power)\n",
    "print(f'original_p: {p}')\n",
    "print(f'word_p: {word_p}')\n",
    "\n",
    "# np.sum(p) = 全単語数で割って確率にする\n",
    "p /= np.sum(p)\n",
    "word_p /= np.sum(word_p)\n",
    "print(f'p_out: {p}')\n",
    "print(f'word_p_out: {word_p}')"
   ]
  },
  {
   "cell_type": "code",
   "execution_count": null,
   "id": "b0140fe9",
   "metadata": {},
   "outputs": [],
   "source": []
  }
 ],
 "metadata": {
  "kernelspec": {
   "display_name": "Python 3 (ipykernel)",
   "language": "python",
   "name": "python3"
  },
  "language_info": {
   "codemirror_mode": {
    "name": "ipython",
    "version": 3
   },
   "file_extension": ".py",
   "mimetype": "text/x-python",
   "name": "python",
   "nbconvert_exporter": "python",
   "pygments_lexer": "ipython3",
   "version": "3.9.6"
  }
 },
 "nbformat": 4,
 "nbformat_minor": 5
}
