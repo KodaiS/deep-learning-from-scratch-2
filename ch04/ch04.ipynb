{
 "cells": [
  {
   "cell_type": "markdown",
   "id": "8cd44312",
   "metadata": {},
   "source": [
    "# 4章コードの補足"
   ]
  },
  {
   "cell_type": "code",
   "execution_count": 175,
   "id": "9ed67ab3",
   "metadata": {},
   "outputs": [],
   "source": [
    "import sys\n",
    "sys.path.append('..')\n",
    "import numpy as np\n",
    "import collections\n",
    "from common.layers import Embedding, SigmoidWithLoss\n",
    "from common.util import create_contexts_target\n",
    "from negative_sampling_layer import EmbeddingDot, UnigramSampler, NegativeSamplingLoss"
   ]
  },
  {
   "cell_type": "markdown",
   "id": "f6fb7b0a",
   "metadata": {},
   "source": [
    "# negative_sampling_layer.py"
   ]
  },
  {
   "cell_type": "markdown",
   "id": "52df0c53",
   "metadata": {},
   "source": [
    "## EmbeddingDot\n",
    "- CBOWモデルの多値分類を二値分類で近似するときに，中間層->出力層の処理を担うレイヤ．\n",
    "- 正解単語のEmbedding，その単語ベクトルと中間層の値の内積を実行する．"
   ]
  },
  {
   "cell_type": "markdown",
   "id": "121e2479",
   "metadata": {},
   "source": [
    "### 初期化 init\n",
    "- 引数として重みWを受け取る"
   ]
  },
  {
   "cell_type": "code",
   "execution_count": 176,
   "id": "dd8881d0",
   "metadata": {},
   "outputs": [],
   "source": [
    "W_out = np.random.rand(10, 3)  # 出力層側の重み. 語彙数10, word_vec_size=3の想定\n",
    "embed = Embedding(W_out)  # Embeddingレイヤを生成\n",
    "grads = embed.grads  # Embeddingレイヤの勾配を保持\n",
    "cache = None  # backwardで使う値をfoward時に保持する変数"
   ]
  },
  {
   "cell_type": "markdown",
   "id": "e993b6c5",
   "metadata": {},
   "source": [
    "### forward\n",
    "- 引数の h は中間層のニューロン，idx は正解単語IDの配列"
   ]
  },
  {
   "cell_type": "code",
   "execution_count": 177,
   "id": "9cc21443",
   "metadata": {},
   "outputs": [
    {
     "name": "stdout",
     "output_type": "stream",
     "text": [
      "中間層 h: \n",
      " [[0.80350185 0.60052725 0.05609662]\n",
      " [0.28917538 0.37431915 0.48310407]\n",
      " [0.70374215 0.34036285 0.4686944 ]\n",
      " [0.67850496 0.20096729 0.07690045]\n",
      " [0.56121228 0.84712113 0.66834159]]\n",
      "正解単語ID idx: \n",
      " [0 1 2 0 5]\n"
     ]
    }
   ],
   "source": [
    "h = np.random.rand(5, 3)  # 中間層のニューロン. batch_size=5, word_vec_size=3 の想定．\n",
    "idx = np.array([0, 1, 2, 0, 5])  # 正解の単語ID\n",
    "print(f'中間層 h: \\n {h}')\n",
    "print(f'正解単語ID idx: \\n {idx}')"
   ]
  },
  {
   "cell_type": "code",
   "execution_count": 178,
   "id": "e3bd3c98",
   "metadata": {},
   "outputs": [
    {
     "name": "stdout",
     "output_type": "stream",
     "text": [
      "W_out: \n",
      " [[0.42033671 0.80675672 0.62130127]\n",
      " [0.80137914 0.64169277 0.5595805 ]\n",
      " [0.21548923 0.56463616 0.48042361]\n",
      " [0.29726869 0.96336842 0.20021747]\n",
      " [0.30847581 0.08188968 0.28270171]\n",
      " [0.21747332 0.45931022 0.29034645]\n",
      " [0.74353172 0.64695558 0.88687812]\n",
      " [0.79125092 0.65129791 0.23946311]\n",
      " [0.80483524 0.46378042 0.27779781]\n",
      " [0.19622793 0.01250582 0.83777769]]\n",
      "target_W_out: \n",
      " [[0.42033671 0.80675672 0.62130127]\n",
      " [0.80137914 0.64169277 0.5595805 ]\n",
      " [0.21548923 0.56463616 0.48042361]\n",
      " [0.42033671 0.80675672 0.62130127]\n",
      " [0.21747332 0.45931022 0.29034645]]\n"
     ]
    }
   ],
   "source": [
    "target_W_out = embed.forward(idx)  # 正解単語の重みのみを抜き出す\n",
    "print(f'W_out: \\n {W_out}')\n",
    "print(f'target_W_out: \\n {target_W_out}')"
   ]
  },
  {
   "cell_type": "code",
   "execution_count": 179,
   "id": "ba53e8ca",
   "metadata": {},
   "outputs": [
    {
     "name": "stdout",
     "output_type": "stream",
     "text": [
      "out: \n",
      " [0.85707363 0.74227263 0.56900188 0.4951106  0.7051907 ]\n"
     ]
    }
   ],
   "source": [
    "out = np.sum(target_W_out * h, axis=1)  # 正解単語の重みと中間層の内積計算\n",
    "print(f'out: \\n {out}')"
   ]
  },
  {
   "cell_type": "code",
   "execution_count": 180,
   "id": "eb8597db",
   "metadata": {},
   "outputs": [],
   "source": [
    "cache = (h, target_W_out)  # backward用"
   ]
  },
  {
   "cell_type": "markdown",
   "id": "c91dc8b0",
   "metadata": {},
   "source": [
    "### backward\n",
    "- 勾配 dout を受け取る"
   ]
  },
  {
   "cell_type": "code",
   "execution_count": 181,
   "id": "1bd8a40e",
   "metadata": {},
   "outputs": [
    {
     "name": "stdout",
     "output_type": "stream",
     "text": [
      "dout: \n",
      " [0.49593873 0.1242032  0.36082813 0.26037497 0.45331597]\n"
     ]
    }
   ],
   "source": [
    "dout = np.random.rand(*out.shape)\n",
    "print(f'dout: \\n {dout}')"
   ]
  },
  {
   "cell_type": "code",
   "execution_count": 182,
   "id": "556ff8e1",
   "metadata": {},
   "outputs": [],
   "source": [
    "h, target_W_out = cache"
   ]
  },
  {
   "cell_type": "code",
   "execution_count": 183,
   "id": "bedc588f",
   "metadata": {},
   "outputs": [
    {
     "name": "stdout",
     "output_type": "stream",
     "text": [
      "reshaped dout: \n",
      " [[0.49593873]\n",
      " [0.1242032 ]\n",
      " [0.36082813]\n",
      " [0.26037497]\n",
      " [0.45331597]]\n"
     ]
    }
   ],
   "source": [
    "dout = dout.reshape(dout.shape[0], 1)  # 二次元に変換\n",
    "print(f'reshaped dout: \\n {dout}')"
   ]
  },
  {
   "cell_type": "code",
   "execution_count": 184,
   "id": "e2ec5fad",
   "metadata": {},
   "outputs": [
    {
     "name": "stdout",
     "output_type": "stream",
     "text": [
      "dtarget_W_out: \n",
      " [[0.39848769 0.29782472 0.02782049]\n",
      " [0.03591651 0.04649164 0.06000307]\n",
      " [0.25392997 0.12281249 0.16911812]\n",
      " [0.17666571 0.05232685 0.02002295]\n",
      " [0.25440649 0.38401354 0.30296992]]\n"
     ]
    }
   ],
   "source": [
    "dtarget_W_out = dout * h  # 内積の逆伝播\n",
    "print(f'dtarget_W_out: \\n {dtarget_W_out}')"
   ]
  },
  {
   "cell_type": "code",
   "execution_count": 185,
   "id": "d962e06d",
   "metadata": {},
   "outputs": [
    {
     "name": "stdout",
     "output_type": "stream",
     "text": [
      "grads: \n",
      " [array([[0., 0., 0.],\n",
      "       [0., 0., 0.],\n",
      "       [0., 0., 0.],\n",
      "       [0., 0., 0.],\n",
      "       [0., 0., 0.],\n",
      "       [0., 0., 0.],\n",
      "       [0., 0., 0.],\n",
      "       [0., 0., 0.],\n",
      "       [0., 0., 0.],\n",
      "       [0., 0., 0.]])]\n",
      "\n",
      "updated grads: \n",
      " [array([[0.57515339, 0.35015157, 0.04784344],\n",
      "       [0.03591651, 0.04649164, 0.06000307],\n",
      "       [0.25392997, 0.12281249, 0.16911812],\n",
      "       [0.        , 0.        , 0.        ],\n",
      "       [0.        , 0.        , 0.        ],\n",
      "       [0.25440649, 0.38401354, 0.30296992],\n",
      "       [0.        , 0.        , 0.        ],\n",
      "       [0.        , 0.        , 0.        ],\n",
      "       [0.        , 0.        , 0.        ],\n",
      "       [0.        , 0.        , 0.        ]])]\n"
     ]
    }
   ],
   "source": [
    "print(f'grads: \\n {grads}', end='\\n\\n')\n",
    "embed.backward(dtarget_W_out)  # Embeddingレイヤの逆伝播．勾配を更新．\n",
    "print(f'updated grads: \\n {grads}')"
   ]
  },
  {
   "cell_type": "markdown",
   "id": "4e78110b",
   "metadata": {},
   "source": [
    "***\n",
    "## UnigramSampler\n",
    "- CBOWモデルの高速化の後半部分．\n",
    "- 負例をランダムに抽出して学習させる際の選び方．\n",
    "- コーパス中の単語の出現確率に従ってサンプリングする．"
   ]
  },
  {
   "cell_type": "markdown",
   "id": "417fd7d5",
   "metadata": {},
   "source": [
    "### 初期化 init"
   ]
  },
  {
   "cell_type": "code",
   "execution_count": 186,
   "id": "912e9383",
   "metadata": {},
   "outputs": [
    {
     "name": "stdout",
     "output_type": "stream",
     "text": [
      "Counter({0: 3, 1: 2, 3: 2, 4: 2, 5: 2, 2: 1, 6: 1})\n",
      "3\n"
     ]
    }
   ],
   "source": [
    "corpus = np.array([0, 1, 2, 3, 4, 5, 1, 0, 3, 4, 5, 0, 6])  # コーパスは単語IDのリスト\n",
    "power = 0.75  # 確率に1未満で累乗し，低頻度の単語に下駄をはかせる\n",
    "sample_size = 3  # サンプリングする数\n",
    "\n",
    "# Counterでコーパス中の単語の出現回数をカウントできる\n",
    "counts = collections.Counter()\n",
    "for word_id in corpus:\n",
    "    counts[word_id] += 1\n",
    "print(counts)\n",
    "print(counts[0])"
   ]
  },
  {
   "cell_type": "code",
   "execution_count": 187,
   "id": "122772d4",
   "metadata": {
    "scrolled": true
   },
   "outputs": [
    {
     "name": "stdout",
     "output_type": "stream",
     "text": [
      "original p: [3. 2. 1. 2. 2. 2. 1.]\n",
      "powerd word_p: [2.27950706 1.68179283 1.         1.68179283 1.68179283 1.68179283\n",
      " 1.        ]\n",
      "\n",
      "p_out: [0.23076923 0.15384615 0.07692308 0.15384615 0.15384615 0.15384615\n",
      " 0.07692308]\n",
      "word_p_out: [0.20710218 0.15279749 0.09085393 0.15279749 0.15279749 0.15279749\n",
      " 0.09085393]\n"
     ]
    }
   ],
   "source": [
    "vocab_size = len(counts)  # 語彙数 = countsの長さ\n",
    "\n",
    "p = np.zeros(vocab_size)  # 語彙数と同じ要素数の配列で確率を保持する\n",
    "\n",
    "# 各単語IDの出現回数を格納\n",
    "for i in range(vocab_size):\n",
    "    p[i] = counts[i]\n",
    "\n",
    "# 出現回数を0.75乗して稀な単語の確率に少し下駄をはかせる\n",
    "word_p = np.power(p, power)\n",
    "print(f'original p: {p}')\n",
    "print(f'powerd word_p: {word_p}', end='\\n\\n')\n",
    "\n",
    "# np.sum(p) = 単語数 で割って確率にする\n",
    "p /= np.sum(p)\n",
    "word_p /= np.sum(word_p)\n",
    "print(f'p_out: {p}')\n",
    "print(f'word_p_out: {word_p}')"
   ]
  },
  {
   "cell_type": "markdown",
   "id": "4392674a",
   "metadata": {},
   "source": [
    "### get_negative_sample"
   ]
  },
  {
   "cell_type": "code",
   "execution_count": 188,
   "id": "5784c17e",
   "metadata": {},
   "outputs": [],
   "source": [
    "# コンテキストとターゲットを作る\n",
    "window_size = 1\n",
    "contexts, target = create_contexts_target(corpus, window_size)"
   ]
  },
  {
   "cell_type": "code",
   "execution_count": 189,
   "id": "964407c7",
   "metadata": {},
   "outputs": [],
   "source": [
    "batch_size = target.shape[0]"
   ]
  },
  {
   "cell_type": "code",
   "execution_count": 190,
   "id": "daf07d0f",
   "metadata": {},
   "outputs": [
    {
     "name": "stdout",
     "output_type": "stream",
     "text": [
      "[[0 0 0]\n",
      " [0 0 0]\n",
      " [0 0 0]\n",
      " [0 0 0]\n",
      " [0 0 0]\n",
      " [0 0 0]\n",
      " [0 0 0]\n",
      " [0 0 0]\n",
      " [0 0 0]\n",
      " [0 0 0]\n",
      " [0 0 0]]\n"
     ]
    }
   ],
   "source": [
    "negative_sample = np.zeros((batch_size, sample_size), dtype=np.int32)\n",
    "print(negative_sample)"
   ]
  },
  {
   "cell_type": "code",
   "execution_count": 191,
   "id": "32c3f138",
   "metadata": {},
   "outputs": [],
   "source": [
    "for i in range(batch_size):\n",
    "    p = word_p.copy()  # 確率を取得\n",
    "    target_idx = target[i]  # ターゲットを保持\n",
    "    p[target_idx] = 0  # ターゲットの確率は0\n",
    "    p /= p.sum()  # ターゲットを除いて確率を再計算\n",
    "    negative_sample[i, :] = np.random.choice(vocab_size, size=sample_size, replace=True, p=word_p)"
   ]
  },
  {
   "cell_type": "code",
   "execution_count": 192,
   "id": "c1abc742",
   "metadata": {},
   "outputs": [
    {
     "name": "stdout",
     "output_type": "stream",
     "text": [
      "[[0 0 5]\n",
      " [4 4 1]\n",
      " [6 2 3]\n",
      " [0 1 1]\n",
      " [1 4 6]\n",
      " [0 5 3]\n",
      " [2 6 6]\n",
      " [2 1 0]\n",
      " [0 5 3]\n",
      " [1 4 5]\n",
      " [0 4 6]]\n"
     ]
    }
   ],
   "source": [
    "print(negative_sample)"
   ]
  },
  {
   "cell_type": "markdown",
   "id": "4428a82d",
   "metadata": {},
   "source": [
    "***\n",
    "## NegativeSamplingLoss\n",
    "- EmbeddingDotレイヤ，UnigramSamplerレイヤ，SigmoidWithLossレイヤの組み合わせ\n",
    "- forwardでは中間層のニューロンとターゲットから損失関数を計算する"
   ]
  },
  {
   "cell_type": "markdown",
   "id": "8a6ffbf2",
   "metadata": {},
   "source": [
    "### 初期化 init\n",
    "- EmbeddingDotレイヤに使う重みW，UnigramSamplerで確率計算に使うcorpus，指数powerとsample_sizeを引数として受け取る"
   ]
  },
  {
   "cell_type": "code",
   "execution_count": 193,
   "id": "c4e4eee7",
   "metadata": {},
   "outputs": [
    {
     "name": "stdout",
     "output_type": "stream",
     "text": [
      "=== 初期化で使う引数 ===\n",
      "W_out: \n",
      " [[0.42033671 0.80675672 0.62130127]\n",
      " [0.80137914 0.64169277 0.5595805 ]\n",
      " [0.21548923 0.56463616 0.48042361]\n",
      " [0.29726869 0.96336842 0.20021747]\n",
      " [0.30847581 0.08188968 0.28270171]\n",
      " [0.21747332 0.45931022 0.29034645]\n",
      " [0.74353172 0.64695558 0.88687812]\n",
      " [0.79125092 0.65129791 0.23946311]\n",
      " [0.80483524 0.46378042 0.27779781]\n",
      " [0.19622793 0.01250582 0.83777769]]\n",
      "\n",
      "corpus: [0 1 2 3 4 5 1 0 3 4 5 0 6]\n",
      "\n",
      "power: 0.75\n",
      "\n",
      "sample_size: 3\n",
      "\n",
      "=========================\n",
      "contexts: \n",
      " [[0 2]\n",
      " [1 3]\n",
      " [2 4]\n",
      " [3 5]\n",
      " [4 1]\n",
      " [5 0]\n",
      " [1 3]\n",
      " [0 4]\n",
      " [3 5]\n",
      " [4 0]\n",
      " [5 6]]\n",
      "\n",
      "target: \n",
      " [1 2 3 4 5 1 0 3 4 5 0]\n",
      "\n",
      "h: \n",
      " [[0.20492465 0.75936608 0.6827763 ]\n",
      " [0.34191755 0.45416866 0.37110143]\n",
      " [0.52786969 0.4027141  0.71930598]\n",
      " [0.1190902  0.00528928 0.49815719]\n",
      " [0.33127124 0.32771372 0.32955939]\n",
      " [0.70687755 0.22116059 0.45107849]\n",
      " [0.73416129 0.46468047 0.36414281]\n",
      " [0.55719554 0.14669425 0.06622113]\n",
      " [0.98160422 0.67501499 0.89157764]\n",
      " [0.92863165 0.42049922 0.31162513]\n",
      " [0.4942497  0.45484971 0.91184724]]\n"
     ]
    }
   ],
   "source": [
    "print('=== 初期化で使う引数 ===')\n",
    "print(f'W_out: \\n {W_out}', end='\\n\\n')  # 出力側の単語ベクトルとなる重み．語彙数 x word_vec_size\n",
    "print(f'corpus: {corpus}', end='\\n\\n')  # corpusは単語IDの配列\n",
    "power = 0.75\n",
    "print(f'power: {power}', end='\\n\\n')\n",
    "sample_size = 3\n",
    "print(f'sample_size: {sample_size}', end='\\n\\n')\n",
    "\n",
    "print('=========================')\n",
    "print(f'contexts: \\n {contexts}', end='\\n\\n')  # contextsは単語IDの二次元配列\n",
    "print(f'target: \\n {target}', end='\\n\\n')  # targetは単語IDの配列\n",
    "batch_size = target.shape[0]\n",
    "h = np.random.rand(batch_size, 3)   # 中間層のニューロン\n",
    "print(f'h: \\n {h}')"
   ]
  },
  {
   "cell_type": "code",
   "execution_count": 194,
   "id": "2d71326c",
   "metadata": {},
   "outputs": [],
   "source": [
    "sampler = UnigramSampler(corpus, power, sample_size)  # UnigramSampler初期化\n",
    "loss_layers = [SigmoidWithLoss() for _ in range(sample_size + 1)]  # 負例 + 1(正例)だけ必要\n",
    "embed_dot_layers = [EmbeddingDot(W_out) for _ in range(sample_size + 1)]  # 負例 + 1(正例)だけ必要"
   ]
  },
  {
   "cell_type": "code",
   "execution_count": 195,
   "id": "6a4c20c1",
   "metadata": {},
   "outputs": [],
   "source": [
    "# embed_dot_layersのパラメータと勾配をリストにまとめる\n",
    "params, grads = [], []\n",
    "for layer in embed_dot_layers:\n",
    "    params.append(layer.params)\n",
    "    grads.append(layer.grads)"
   ]
  },
  {
   "cell_type": "code",
   "execution_count": 196,
   "id": "d2f00104",
   "metadata": {
    "scrolled": true
   },
   "outputs": [
    {
     "name": "stdout",
     "output_type": "stream",
     "text": [
      "重みと勾配はEmbeddingDotレイヤの数 = 負例 + 1(正例)\n",
      "\n",
      "length of params: 4\n",
      "length of grads : 4\n"
     ]
    }
   ],
   "source": [
    "print('重みと勾配はEmbeddingDotレイヤの数 = 負例 + 1(正例)', end='\\n\\n')\n",
    "print(f'length of params: {len(params)}')\n",
    "print(f'length of grads : {len(grads)}')"
   ]
  },
  {
   "cell_type": "markdown",
   "id": "d9bfd421",
   "metadata": {},
   "source": [
    "### forward"
   ]
  },
  {
   "cell_type": "code",
   "execution_count": 197,
   "id": "6a79d057",
   "metadata": {},
   "outputs": [
    {
     "name": "stdout",
     "output_type": "stream",
     "text": [
      "target: \n",
      " [1 2 3 4 5 1 0 3 4 5 0]\n",
      "batch_size: \n",
      " 11\n"
     ]
    }
   ],
   "source": [
    "batch_size = target.shape[0]\n",
    "print(f'target: \\n {target}')\n",
    "print(f'batch_size: \\n {batch_size}')"
   ]
  },
  {
   "cell_type": "code",
   "execution_count": 198,
   "id": "28fb7ca9",
   "metadata": {},
   "outputs": [
    {
     "name": "stdout",
     "output_type": "stream",
     "text": [
      "negative_sample: \n",
      " [[0 4 3]\n",
      " [1 4 0]\n",
      " [0 4 2]\n",
      " [0 3 5]\n",
      " [6 3 0]\n",
      " [2 3 0]\n",
      " [5 4 1]\n",
      " [1 5 2]\n",
      " [1 0 3]\n",
      " [4 3 0]\n",
      " [4 3 6]]\n"
     ]
    }
   ],
   "source": [
    "# 負例(targetではない単語)をコーパス中の確率に応じてサンプリングする\n",
    "negative_sample = sampler.get_negative_sample(target)\n",
    "print(f'negative_sample: \\n {negative_sample}')"
   ]
  },
  {
   "cell_type": "code",
   "execution_count": 199,
   "id": "92ac72c1",
   "metadata": {},
   "outputs": [],
   "source": [
    "# 正例のフォワード\n",
    "# embed_dot_layersとloss_layersの0番目を正例のレイヤとしている\n",
    "score = embed_dot_layers[0].forward(h, target)  # EmbeddingDotレイヤのforward\n",
    "correct_label = np.ones(batch_size, dtype=np.int32)  # 正例は正解ラベルとして1を渡す\n",
    "loss = loss_layers[0].forward(score, correct_label)  # SigmoidWithLossレイヤ"
   ]
  },
  {
   "cell_type": "code",
   "execution_count": 200,
   "id": "88709172",
   "metadata": {},
   "outputs": [],
   "source": [
    "# 負例のフォワード\n",
    "# embed_dot_layersとloss_layersの1番目以降を負例のレイヤとしている\n",
    "negative_label = np.zeros(batch_size, dtype=np.int32)  # 負例は正解ラベルとして0を渡す\n",
    "for i in range(sample_size):\n",
    "    negative_target = negative_sample[:, i]  # サンプルサイズの回数ループ．バッチ処理．\n",
    "    score = embed_dot_layers[i+1].forward(h, negative_target)  # EmbeddingDotレイヤのforward\n",
    "    loss += loss_layers[i+1].forward(score, negative_label)  # SigmoidWithLossレイヤのforward"
   ]
  },
  {
   "cell_type": "code",
   "execution_count": 201,
   "id": "603b1fe6",
   "metadata": {},
   "outputs": [
    {
     "name": "stdout",
     "output_type": "stream",
     "text": [
      "loss: \n",
      " 3.7561602905079527\n"
     ]
    }
   ],
   "source": [
    "print(f'loss: \\n {loss}')"
   ]
  },
  {
   "cell_type": "markdown",
   "id": "75116810",
   "metadata": {},
   "source": [
    "### backward"
   ]
  },
  {
   "cell_type": "code",
   "execution_count": 202,
   "id": "d8b412a4",
   "metadata": {},
   "outputs": [],
   "source": [
    "dout = 1"
   ]
  },
  {
   "cell_type": "code",
   "execution_count": 203,
   "id": "d6646410",
   "metadata": {},
   "outputs": [
    {
     "name": "stdout",
     "output_type": "stream",
     "text": [
      "dh: \n",
      " [[0.04532614 0.1071281  0.05719736]\n",
      " [0.0841118  0.07447839 0.07108188]\n",
      " [0.04866971 0.06285227 0.07957215]\n",
      " [0.03496314 0.10941099 0.04568705]\n",
      " [0.07903256 0.12396893 0.09147545]\n",
      " [0.03491494 0.12043171 0.06286656]\n",
      " [0.07233327 0.05278868 0.05334319]\n",
      " [0.05714568 0.05223116 0.06388118]\n",
      " [0.10358789 0.17297228 0.09408668]\n",
      " [0.0549831  0.10041509 0.0581471 ]\n",
      " [0.08127711 0.09442739 0.07999488]]\n",
      "h : \n",
      " [[0.20492465 0.75936608 0.6827763 ]\n",
      " [0.34191755 0.45416866 0.37110143]\n",
      " [0.52786969 0.4027141  0.71930598]\n",
      " [0.1190902  0.00528928 0.49815719]\n",
      " [0.33127124 0.32771372 0.32955939]\n",
      " [0.70687755 0.22116059 0.45107849]\n",
      " [0.73416129 0.46468047 0.36414281]\n",
      " [0.55719554 0.14669425 0.06622113]\n",
      " [0.98160422 0.67501499 0.89157764]\n",
      " [0.92863165 0.42049922 0.31162513]\n",
      " [0.4942497  0.45484971 0.91184724]]\n"
     ]
    }
   ],
   "source": [
    "# dhを初期化\n",
    "dh = 0\n",
    "\n",
    "# SigmoidWithLossレイヤ->EmbeddingDotレイヤの順にbackward\n",
    "for l0, l1 in zip(loss_layers, embed_dot_layers):\n",
    "    dscore = l0.backward(dout)\n",
    "    dh += l1.backward(dscore)  # hの順伝播はリピートノードなので，逆伝播では足し合わせる\n",
    "    \n",
    "print(f'dh: \\n {dh}')\n",
    "print(f'h : \\n {h}')"
   ]
  },
  {
   "cell_type": "markdown",
   "id": "4b0868a6",
   "metadata": {},
   "source": [
    "***\n",
    "# cbow.py\n",
    "### CBOW\n",
    "- 改良版CBOWモデル．\n",
    "- EmbeddingレイヤとNegativeSamplingLossレイヤを使う．"
   ]
  },
  {
   "cell_type": "markdown",
   "id": "c113b8d2",
   "metadata": {},
   "source": [
    "### 初期化 init"
   ]
  },
  {
   "cell_type": "code",
   "execution_count": 204,
   "id": "347adda5",
   "metadata": {},
   "outputs": [
    {
     "name": "stdout",
     "output_type": "stream",
     "text": [
      "===引数===\n",
      "vocab_size: 7\n",
      "hidden_size: 3\n",
      "corpus: [0 1 2 3 4 5 1 0 3 4 5 0 6]\n",
      "window_size: 2\n"
     ]
    }
   ],
   "source": [
    "hidden_size = 3  # embeddingした単語ベクトルの次元\n",
    "window_size = 2  # targetの両側いくつか？\n",
    "\n",
    "print('===引数===')\n",
    "print(f'vocab_size: {vocab_size}')\n",
    "print(f'hidden_size: {hidden_size}')\n",
    "print(f'corpus: {corpus}')\n",
    "print(f'window_size: {window_size}')"
   ]
  },
  {
   "cell_type": "code",
   "execution_count": 205,
   "id": "bb77a0d0",
   "metadata": {},
   "outputs": [],
   "source": [
    "# 重みの初期化\n",
    "V, H = vocab_size, hidden_size\n",
    "W_in = 0.01 * np.random.randn(V, H).astype('f')\n",
    "W_out = 0.01 * np.random.randn(V, H).astype('f')"
   ]
  },
  {
   "cell_type": "code",
   "execution_count": 206,
   "id": "3e424770",
   "metadata": {},
   "outputs": [],
   "source": [
    "# レイヤの生成\n",
    "in_layers = []\n",
    "for i in range(window_size*2):\n",
    "    layer = Embedding(W_in)\n",
    "    in_layers.append(layer)\n",
    "ns_loss = NegativeSamplingLoss(W_out, corpus, power=0.75, sample_size=2)"
   ]
  },
  {
   "cell_type": "code",
   "execution_count": 207,
   "id": "1635e758",
   "metadata": {},
   "outputs": [],
   "source": [
    "# 重みと勾配をリストで管理する\n",
    "layers = in_layers + [ns_loss]\n",
    "params, grads = [], []\n",
    "for layer in layers:\n",
    "    params.append(layer.params)\n",
    "    grads.append(layer.grads)"
   ]
  },
  {
   "cell_type": "code",
   "execution_count": 208,
   "id": "483146b6",
   "metadata": {},
   "outputs": [],
   "source": [
    "# インスタンス変数に単語の分散表現を設定\n",
    "word_vecs = W_in"
   ]
  },
  {
   "cell_type": "markdown",
   "id": "0d42d5bc",
   "metadata": {},
   "source": [
    "### forward"
   ]
  },
  {
   "cell_type": "code",
   "execution_count": 209,
   "id": "3453452a",
   "metadata": {},
   "outputs": [
    {
     "name": "stdout",
     "output_type": "stream",
     "text": [
      "contexts\n",
      "[[0 1 3 4]\n",
      " [1 2 4 5]\n",
      " [2 3 5 1]\n",
      " [3 4 1 0]\n",
      " [4 5 0 3]\n",
      " [5 1 3 4]\n",
      " [1 0 4 5]\n",
      " [0 3 5 0]\n",
      " [3 4 0 6]]\n",
      "targets\n",
      "[2 3 4 5 1 0 3 4 5]\n"
     ]
    }
   ],
   "source": [
    "contexts, targets = create_contexts_target(corpus, window_size)\n",
    "print('contexts')\n",
    "print(contexts)\n",
    "print('targets')\n",
    "print(targets)"
   ]
  },
  {
   "cell_type": "code",
   "execution_count": 210,
   "id": "60eb6613",
   "metadata": {},
   "outputs": [
    {
     "name": "stdout",
     "output_type": "stream",
     "text": [
      "2.079430050320095\n"
     ]
    }
   ],
   "source": [
    "h = 0\n",
    "for i, layer in enumerate(in_layers):\n",
    "    h += layer.forward(contexts[:, i])  # Embeddingレイヤの順伝播\n",
    "h *= 1 / len(in_layers)  # コンテキスト全体の平均を中間層のニューロンとする\n",
    "loss = ns_loss.forward(h, targets)\n",
    "print(loss)"
   ]
  },
  {
   "cell_type": "markdown",
   "id": "eca8dc6d",
   "metadata": {},
   "source": [
    "### backward"
   ]
  },
  {
   "cell_type": "code",
   "execution_count": 211,
   "id": "d57cd8a5",
   "metadata": {},
   "outputs": [
    {
     "name": "stdout",
     "output_type": "stream",
     "text": [
      "========= before backward =========\n",
      "grad of ns_loss\n",
      "[array([[0., 0., 0.],\n",
      "       [0., 0., 0.],\n",
      "       [0., 0., 0.],\n",
      "       [0., 0., 0.],\n",
      "       [0., 0., 0.],\n",
      "       [0., 0., 0.],\n",
      "       [0., 0., 0.]], dtype=float32), array([[0., 0., 0.],\n",
      "       [0., 0., 0.],\n",
      "       [0., 0., 0.],\n",
      "       [0., 0., 0.],\n",
      "       [0., 0., 0.],\n",
      "       [0., 0., 0.],\n",
      "       [0., 0., 0.]], dtype=float32), array([[0., 0., 0.],\n",
      "       [0., 0., 0.],\n",
      "       [0., 0., 0.],\n",
      "       [0., 0., 0.],\n",
      "       [0., 0., 0.],\n",
      "       [0., 0., 0.],\n",
      "       [0., 0., 0.]], dtype=float32)]\n",
      "grad of in_layer_0\n",
      "[array([[0., 0., 0.],\n",
      "       [0., 0., 0.],\n",
      "       [0., 0., 0.],\n",
      "       [0., 0., 0.],\n",
      "       [0., 0., 0.],\n",
      "       [0., 0., 0.],\n",
      "       [0., 0., 0.]], dtype=float32)]\n",
      "========= after backward =========\n",
      "grad of ns_loss\n",
      "[array([[ 5.0659892e-05, -1.6392178e-05,  3.8957217e-04],\n",
      "       [-2.2350028e-04,  3.9279266e-04,  3.1018417e-04],\n",
      "       [-1.0725167e-04, -1.1440896e-05,  1.2945100e-04],\n",
      "       [ 4.1869315e-04, -1.7548105e-04,  7.1119406e-04],\n",
      "       [ 2.1207710e-04,  3.1660034e-04, -1.5085253e-04],\n",
      "       [-5.4498739e-04,  2.7406134e-04,  2.7579805e-04],\n",
      "       [ 0.0000000e+00,  0.0000000e+00,  0.0000000e+00]], dtype=float32), array([[ 0.0000000e+00,  0.0000000e+00,  0.0000000e+00],\n",
      "       [ 5.6590681e-05,  2.7833559e-05, -5.1903434e-04],\n",
      "       [ 0.0000000e+00,  0.0000000e+00,  0.0000000e+00],\n",
      "       [ 4.3775045e-04, -2.8550910e-04, -1.4635512e-04],\n",
      "       [-1.9836030e-04,  5.1235034e-05, -4.0259623e-04],\n",
      "       [-2.0888675e-04, -5.8519776e-04, -4.6798488e-04],\n",
      "       [ 1.0725227e-04,  1.1440961e-05, -1.2945173e-04]], dtype=float32), array([[ 1.0725225e-04,  1.1440959e-05, -1.2945170e-04],\n",
      "       [ 4.3779821e-04, -2.8554024e-04, -1.4637108e-04],\n",
      "       [-4.3052592e-04,  6.1032293e-05, -4.1388435e-04],\n",
      "       [ 2.4356862e-04, -7.1922236e-04, -1.4808847e-04],\n",
      "       [ 0.0000000e+00,  0.0000000e+00,  0.0000000e+00],\n",
      "       [ 5.6592751e-05,  2.7834414e-05, -5.1904994e-04],\n",
      "       [-2.2035527e-04,  1.2425744e-04, -3.0863180e-04]], dtype=float32)]\n",
      "grad of in_layer_0\n",
      "[array([[ 7.0682639e-04, -2.4182051e-05, -2.6356117e-04],\n",
      "       [ 2.7256098e-04,  1.2523422e-04, -4.6082088e-04],\n",
      "       [ 2.1170262e-04,  1.7357702e-04, -4.8419461e-04],\n",
      "       [-9.7953272e-04, -2.4683127e-04,  1.0108886e-04],\n",
      "       [ 1.4783006e-05,  2.1714554e-04, -1.2924112e-04],\n",
      "       [ 3.2165839e-04, -2.8679339e-04, -1.4045833e-04],\n",
      "       [ 0.0000000e+00,  0.0000000e+00,  0.0000000e+00]], dtype=float32)]\n"
     ]
    }
   ],
   "source": [
    "print('========= before backward =========')\n",
    "print('grad of ns_loss')\n",
    "print(grads[-1])\n",
    "\n",
    "print('grad of in_layer_0')\n",
    "print(grads[0])\n",
    "\n",
    "dout = 1\n",
    "dout = ns_loss.backward(dout)\n",
    "dout *= 1 / len(in_layers)  # コンテキスト一つ分の損失にする\n",
    "for layer in in_layers:\n",
    "    layer.backward(dout)\n",
    "    \n",
    "print('========= after backward =========')\n",
    "print('grad of ns_loss')\n",
    "print(grads[-1])\n",
    "\n",
    "print('grad of in_layer_0')\n",
    "print(grads[0])"
   ]
  },
  {
   "cell_type": "code",
   "execution_count": null,
   "id": "6c70d181",
   "metadata": {},
   "outputs": [],
   "source": []
  }
 ],
 "metadata": {
  "kernelspec": {
   "display_name": "Python 3 (ipykernel)",
   "language": "python",
   "name": "python3"
  },
  "language_info": {
   "codemirror_mode": {
    "name": "ipython",
    "version": 3
   },
   "file_extension": ".py",
   "mimetype": "text/x-python",
   "name": "python",
   "nbconvert_exporter": "python",
   "pygments_lexer": "ipython3",
   "version": "3.9.6"
  }
 },
 "nbformat": 4,
 "nbformat_minor": 5
}
